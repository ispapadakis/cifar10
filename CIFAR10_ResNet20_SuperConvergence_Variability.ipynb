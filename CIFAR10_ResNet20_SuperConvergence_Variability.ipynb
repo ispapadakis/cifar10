{
  "nbformat": 4,
  "nbformat_minor": 0,
  "metadata": {
    "colab": {
      "name": "CIFAR10-ResNet20-SuperConvergence_Variability.ipynb",
      "version": "0.3.2",
      "provenance": [],
      "collapsed_sections": [],
      "toc_visible": true
    },
    "kernelspec": {
      "name": "python3",
      "display_name": "Python 3"
    },
    "accelerator": "GPU"
  },
  "cells": [
    {
      "metadata": {
        "id": "PB4lWGVcN184",
        "colab_type": "text"
      },
      "cell_type": "markdown",
      "source": [
        "# CIFAR-10 Analysis - No Noise\n",
        "\n",
        "---\n",
        "\n",
        "- Architecture: Resnet 20\n",
        "- Data Augmentation:Horizontal Flip, Shift, Cutout\n",
        "- New LR Schedule\n",
        "\n",
        "<p> Based On: https://github.com/keras-team/keras/blob/master/examples/cifar10_resnet.py\n",
        "      \n"
      ]
    },
    {
      "metadata": {
        "id": "GZggqxwGkIGU",
        "colab_type": "text"
      },
      "cell_type": "markdown",
      "source": [
        "## Strategy:\n",
        "- Repeat Experiment 3 times (using only 17.5K steps)* \n",
        "- Observe Variability in Validation Accuracy\n",
        "\n",
        "## Results:\n",
        "- Variability is not significant: (0.910, 0.904, 0.910)\n",
        "\n",
        "<p> * <i>A better fit is obtained elsewhere with more training steps (hence, longer run completion).</i>"
      ]
    },
    {
      "metadata": {
        "id": "BXFFVsvUOkzE",
        "colab_type": "text"
      },
      "cell_type": "markdown",
      "source": [
        "# Load Data and Libraries"
      ]
    },
    {
      "metadata": {
        "id": "qMr82Z-A553Y",
        "colab_type": "code",
        "colab": {}
      },
      "cell_type": "code",
      "source": [
        "from __future__ import print_function\n",
        "import keras\n",
        "from keras.layers import Dense, Conv2D, BatchNormalization, Activation\n",
        "from keras.layers import AveragePooling2D, MaxPooling2D, Input, Flatten, concatenate\n",
        "from keras.optimizers import Adam\n",
        "from keras.callbacks import ModelCheckpoint, LearningRateScheduler\n",
        "from keras.callbacks import ReduceLROnPlateau\n",
        "from keras.preprocessing.image import ImageDataGenerator\n",
        "from keras.regularizers import l2\n",
        "from keras import backend as K\n",
        "from keras.models import Model\n",
        "from keras.datasets import cifar10\n",
        "\n",
        "import os\n",
        "import matplotlib.pyplot as plt\n",
        "import numpy as np\n",
        "import pandas as pd\n",
        "import pickle"
      ],
      "execution_count": 0,
      "outputs": []
    },
    {
      "metadata": {
        "id": "CRiu87vcSevE",
        "colab_type": "code",
        "colab": {}
      },
      "cell_type": "code",
      "source": [
        "# Model version\n",
        "# Orig paper: version = 1 (ResNet v1)\n",
        "\n",
        "version = 1\n",
        "n = 3\n",
        "depth = n * 6 + 2\n",
        "\n",
        "num_classes = 10\n",
        "\n",
        "# Model name, depth and version\n",
        "model_type = 'ResNet%dv%d' % (depth, version)"
      ],
      "execution_count": 0,
      "outputs": []
    },
    {
      "metadata": {
        "id": "6CzuV5X2SnUm",
        "colab_type": "code",
        "colab": {}
      },
      "cell_type": "code",
      "source": [
        "# Load the CIFAR10 data.\n",
        "(x_train, y_train), (x_test, y_test) = cifar10.load_data()\n",
        "\n",
        "# Input image dimensions.\n",
        "input_shape = x_train.shape[1:]"
      ],
      "execution_count": 0,
      "outputs": []
    },
    {
      "metadata": {
        "id": "6bmM8NppTrXo",
        "colab_type": "code",
        "colab": {}
      },
      "cell_type": "code",
      "source": [
        "# Normalize data.\n",
        "x_train = x_train.astype('float32') / 255\n",
        "x_test = x_test.astype('float32') / 255"
      ],
      "execution_count": 0,
      "outputs": []
    },
    {
      "metadata": {
        "id": "2uQLjLWwTrgm",
        "colab_type": "code",
        "outputId": "250ba08f-0a19-44a6-84fb-a9fe55b679b7",
        "colab": {
          "base_uri": "https://localhost:8080/",
          "height": 50
        }
      },
      "cell_type": "code",
      "source": [
        "x_train_mean = np.mean(x_train, axis=(0,1,2))\n",
        "x_train -= x_train_mean\n",
        "x_test -= x_train_mean\n",
        "x_train_std = np.std(x_train, axis=(0,1,2))\n",
        "x_train /= x_train_std\n",
        "x_test  /= x_train_std\n",
        "\n",
        "print('x_train shape:', x_train.shape)\n",
        "print('y_train shape:', y_train.shape)"
      ],
      "execution_count": 62,
      "outputs": [
        {
          "output_type": "stream",
          "text": [
            "x_train shape: (50000, 32, 32, 3)\n",
            "y_train shape: (50000, 1)\n"
          ],
          "name": "stdout"
        }
      ]
    },
    {
      "metadata": {
        "id": "sxEJbld2Trnz",
        "colab_type": "code",
        "colab": {}
      },
      "cell_type": "code",
      "source": [
        "# Convert class vectors to binary class matrices.\n",
        "y_train = keras.utils.to_categorical(y_train, num_classes)\n",
        "y_test = keras.utils.to_categorical(y_test, num_classes)"
      ],
      "execution_count": 0,
      "outputs": []
    },
    {
      "metadata": {
        "id": "drAxtJAeOu-4",
        "colab_type": "text"
      },
      "cell_type": "markdown",
      "source": [
        "# Model Architecture"
      ]
    },
    {
      "metadata": {
        "id": "MCZjiAWST9Ex",
        "colab_type": "code",
        "colab": {}
      },
      "cell_type": "code",
      "source": [
        "def resnet_layer(inputs,\n",
        "                 num_filters=16,\n",
        "                 kernel_size=3,\n",
        "                 strides=1,\n",
        "                 activation='relu',\n",
        "                 batch_normalization=True,\n",
        "                 conv_first=True):\n",
        "    \"\"\"2D Convolution-Batch Normalization-Activation stack builder\n",
        "    # Arguments\n",
        "        inputs (tensor): input tensor from input image or previous layer\n",
        "        num_filters (int): Conv2D number of filters\n",
        "        kernel_size (int): Conv2D square kernel dimensions\n",
        "        strides (int): Conv2D square stride dimensions\n",
        "        activation (string): activation name\n",
        "        batch_normalization (bool): whether to include batch normalization\n",
        "        conv_first (bool): conv-bn-activation (True) or\n",
        "            bn-activation-conv (False)\n",
        "    # Returns\n",
        "        x (tensor): tensor as input to the next layer\n",
        "    \"\"\"\n",
        "    conv = Conv2D(num_filters,\n",
        "                  kernel_size=kernel_size,\n",
        "                  strides=strides,\n",
        "                  padding='same',\n",
        "                  kernel_initializer='he_normal',\n",
        "                  kernel_regularizer=l2(1e-4))\n",
        "\n",
        "    x = inputs\n",
        "    if conv_first:\n",
        "        x = conv(x)\n",
        "        if batch_normalization:\n",
        "            x = BatchNormalization()(x)\n",
        "        if activation is not None:\n",
        "            x = Activation(activation)(x)\n",
        "    else:\n",
        "        if batch_normalization:\n",
        "            x = BatchNormalization()(x)\n",
        "        if activation is not None:\n",
        "            x = Activation(activation)(x)\n",
        "        x = conv(x)\n",
        "    return x"
      ],
      "execution_count": 0,
      "outputs": []
    },
    {
      "metadata": {
        "id": "wxPD8PkZT9OP",
        "colab_type": "code",
        "colab": {}
      },
      "cell_type": "code",
      "source": [
        "def resnet_v1(input_shape, depth, num_classes=10):\n",
        "    \"\"\"ResNet Version 1 Model builder [a]\n",
        "    Stacks of 2 x (3 x 3) Conv2D-BN-ReLU\n",
        "    Last ReLU is after the shortcut connection.\n",
        "    At the beginning of each stage, the feature map size is halved (downsampled)\n",
        "    by a convolutional layer with strides=2, while the number of filters is\n",
        "    doubled. Within each stage, the layers have the same number filters and the\n",
        "    same number of filters.\n",
        "    Features maps sizes:\n",
        "    stage 0: 32x32, 16\n",
        "    stage 1: 16x16, 32\n",
        "    stage 2:  8x8,  64\n",
        "    The Number of parameters is approx the same as Table 6 of [a]:\n",
        "    ResNet20 0.27M\n",
        "    ResNet32 0.46M\n",
        "    ResNet44 0.66M\n",
        "    ResNet56 0.85M\n",
        "    ResNet110 1.7M\n",
        "    # Arguments\n",
        "        input_shape (tensor): shape of input image tensor\n",
        "        depth (int): number of core convolutional layers\n",
        "        num_classes (int): number of classes (CIFAR10 has 10)\n",
        "    # Returns\n",
        "        model (Model): Keras model instance\n",
        "    \"\"\"\n",
        "    if (depth - 2) % 6 != 0:\n",
        "        raise ValueError('depth should be 6n+2 (eg 20, 32, 44 in [a])')\n",
        "    # Start model definition.\n",
        "    num_filters = 16\n",
        "    num_res_blocks = int((depth - 2) / 6)\n",
        "\n",
        "    inputs = Input(shape=input_shape)\n",
        "    x = resnet_layer(inputs=inputs)\n",
        "    # Instantiate the stack of residual units\n",
        "    for stack in range(3):\n",
        "        for res_block in range(num_res_blocks):\n",
        "            strides = 1\n",
        "            if stack > 0 and res_block == 0:  # first layer but not first stack\n",
        "                strides = 2  # downsample\n",
        "            y = resnet_layer(inputs=x,\n",
        "                             num_filters=num_filters,\n",
        "                             strides=strides)\n",
        "            y = resnet_layer(inputs=y,\n",
        "                             num_filters=num_filters,\n",
        "                             activation=None)\n",
        "            if stack > 0 and res_block == 0:  # first layer but not first stack\n",
        "                # linear projection residual shortcut connection to match\n",
        "                # changed dims\n",
        "                x = resnet_layer(inputs=x,\n",
        "                                 num_filters=num_filters,\n",
        "                                 kernel_size=1,\n",
        "                                 strides=strides,\n",
        "                                 activation=None,\n",
        "                                 batch_normalization=False)\n",
        "            x = keras.layers.add([x, y])\n",
        "            x = Activation('relu')(x)\n",
        "        num_filters *= 2\n",
        "\n",
        "    # Add classifier on top.\n",
        "    # v1 does not use BN after last shortcut connection-ReLU\n",
        "    x = AveragePooling2D(pool_size=8)(x)\n",
        "    y = Flatten()(x)\n",
        "    outputs = Dense(num_classes,\n",
        "                    activation='softmax',\n",
        "                    kernel_initializer='he_normal')(y)\n",
        "\n",
        "    # Instantiate model.\n",
        "    model = Model(inputs=inputs, outputs=outputs)\n",
        "    return model"
      ],
      "execution_count": 0,
      "outputs": []
    },
    {
      "metadata": {
        "id": "GgjdY8pa-Wuv",
        "colab_type": "text"
      },
      "cell_type": "markdown",
      "source": [
        "# Train Model"
      ]
    },
    {
      "metadata": {
        "id": "E-kk3oBG74tp",
        "colab_type": "code",
        "colab": {
          "base_uri": "https://localhost:8080/",
          "height": 34
        },
        "outputId": "4d1e8d40-1229-4328-c188-3b8955dac730"
      },
      "cell_type": "code",
      "source": [
        "hyper = {'lr':0.16,'rho':0.93,'alpha':1.5e-4,'augmentation_factor':1.5,'batch_size':128}\n",
        "\n",
        "BATCHES_PER_EPOCH = hyper['augmentation_factor'] * x_train.shape[0] // hyper['batch_size']\n",
        "BATCHES_PER_EPOCH"
      ],
      "execution_count": 66,
      "outputs": [
        {
          "output_type": "execute_result",
          "data": {
            "text/plain": [
              "585.0"
            ]
          },
          "metadata": {
            "tags": []
          },
          "execution_count": 66
        }
      ]
    },
    {
      "metadata": {
        "id": "n5Bm1zAi77jn",
        "colab_type": "text"
      },
      "cell_type": "markdown",
      "source": [
        "## Optimizer Settings for Super Convergence"
      ]
    },
    {
      "metadata": {
        "id": "tzNFSP_6VmzH",
        "colab_type": "code",
        "colab": {}
      },
      "cell_type": "code",
      "source": [
        "class SuperConvergence(keras.callbacks.Callback):\n",
        "  def __init__(self, epoch_domain=[0, 15, 30, 40],\n",
        "               lr_range = [0, 0.1, 0.005, 0], echo=False):\n",
        "    super().__init__()\n",
        "    self.epoch_domain = epoch_domain\n",
        "    self.lr_range = lr_range\n",
        "    self.lr_schedule  = lambda step: np.interp(step/BATCHES_PER_EPOCH, self.epoch_domain, self.lr_range)\n",
        "    self.step = 0\n",
        "    self.echo = echo\n",
        "    \n",
        "  def on_batch_begin(self, batch, logs=None):\n",
        "    keras.backend.set_value(self.model.optimizer.lr, self.lr_schedule(self.step))\n",
        "    self.step += 1\n",
        "    \n",
        "  def on_epoch_end(self, epoch, logs=None):\n",
        "    if self.echo:\n",
        "      lr = keras.backend.get_value(self.model.optimizer.lr)\n",
        "      print('Learning Rate: {:.4f}'.format(lr))\n",
        "  \n",
        "  def epochs(self):\n",
        "    return self.epoch_domain[-1]\n",
        "  \n",
        "  def __repr__(self):\n",
        "    s = 'SuperConvergence('\n",
        "    s += 'epoch_domain={}, '.format(self.epoch_domain)\n",
        "    s += 'lr_range={}, '.format(self.lr_range)\n",
        "    s += 'echo={})'.format(self.echo)\n",
        "    return s"
      ],
      "execution_count": 0,
      "outputs": []
    },
    {
      "metadata": {
        "id": "tMIwzUqduoq4",
        "colab_type": "text"
      },
      "cell_type": "markdown",
      "source": [
        "## Data Augmentation Generator"
      ]
    },
    {
      "metadata": {
        "id": "oDr0oBRGSXEd",
        "colab_type": "code",
        "colab": {}
      },
      "cell_type": "code",
      "source": [
        "def fit_cutout(train_image, channels_last=True, cutout_pxl = 8):\n",
        "    try:\n",
        "        shape = train_image.shape\n",
        "        if train_image.ndim != 3:\n",
        "            raise Exception('Expecting 3D Image')\n",
        "    except AttributeError:\n",
        "        print('Expecting train_image input to be numpy array')\n",
        "        raise\n",
        "\n",
        "    if channels_last:\n",
        "        img_h, img_w, img_c = shape\n",
        "    else:\n",
        "        img_c, img_h, img_w = shape\n",
        "        \n",
        "    sq_side_half = np.round(cutout_pxl / 2).astype('int')\n",
        "    \n",
        "    def preprocess(image):\n",
        "      \n",
        "        new_image = image.copy()\n",
        "        \n",
        "        h = np.random.randint(img_h)\n",
        "        w = np.random.randint(img_w)\n",
        "        \n",
        "        h_lo = max(0,h-sq_side_half)\n",
        "        h_hi = min(img_h,h+sq_side_half)\n",
        "        \n",
        "        w_lo = max(0,w-sq_side_half)\n",
        "        w_hi = min(img_w,w+sq_side_half)\n",
        "        \n",
        "        value = np.random.uniform(0,1,(3,))\n",
        "\n",
        "        if channels_last:\n",
        "            new_image[h_lo:h_hi,w_lo:w_hi,:] = value[np.newaxis,np.newaxis,:]\n",
        "        else:\n",
        "            new_image[:,h_lo:h_hi,w_lo:w_hi] = value[:,np.newaxis,np.newaxis]\n",
        "        return new_image\n",
        "    return preprocess\n",
        "  \n",
        "cutout = fit_cutout(x_train[0])"
      ],
      "execution_count": 0,
      "outputs": []
    },
    {
      "metadata": {
        "id": "nHUwIKcBrFwr",
        "colab_type": "code",
        "colab": {}
      },
      "cell_type": "code",
      "source": [
        "#data augmentation\n",
        "datagen = ImageDataGenerator(\n",
        "    featurewise_center=False,\n",
        "    samplewise_center=False,\n",
        "    featurewise_std_normalization=False,\n",
        "    samplewise_std_normalization=False,\n",
        "    zca_whitening=False,\n",
        "    #zoom_range=[0.8,1.4],\n",
        "    #rotation_range=20,\n",
        "    width_shift_range=0.2,\n",
        "    height_shift_range=0.1,\n",
        "    horizontal_flip=True,\n",
        "    vertical_flip=False,\n",
        "    #brightness_range=[.15,1.15], \n",
        "    #shear_range=15,\n",
        "    #channel_shift_range=0.2,\n",
        "    preprocessing_function = cutout,\n",
        "    fill_mode='reflect'\n",
        "    )"
      ],
      "execution_count": 0,
      "outputs": []
    },
    {
      "metadata": {
        "id": "xpjytd8b8Egs",
        "colab_type": "text"
      },
      "cell_type": "markdown",
      "source": [
        "## Model Definition\n"
      ]
    },
    {
      "metadata": {
        "id": "h62uCM8nsHfL",
        "colab_type": "code",
        "colab": {}
      },
      "cell_type": "code",
      "source": [
        "def prep_model(lr,rho,alpha,**kwargs):\n",
        "  keras.backend.clear_session()\n",
        "  model = resnet_v1(input_shape=input_shape, depth=depth)\n",
        "  model.compile(loss='categorical_crossentropy',\n",
        "                optimizer=keras.optimizers.SGD(momentum=rho, nesterov=True),\n",
        "                metrics=['accuracy'])\n",
        "\n",
        "  for layer in model.layers:\n",
        "      if isinstance(layer, keras.layers.Conv2D) or isinstance(layer, keras.layers.Dense):\n",
        "          layer.add_loss(keras.regularizers.l2(alpha)(layer.kernel))\n",
        "      if hasattr(layer, 'bias_regularizer') and layer.use_bias:\n",
        "          layer.add_loss(keras.regularizers.l2(alpha)(layer.bias))\n",
        "          \n",
        "  optim_sched = SuperConvergence(\n",
        "      epoch_domain=[0, 5, 30], lr_range = [0, lr, 0]\n",
        "  )\n",
        "  \n",
        "          \n",
        "  return model, optim_sched"
      ],
      "execution_count": 0,
      "outputs": []
    },
    {
      "metadata": {
        "id": "2-rusz9sytsk",
        "colab_type": "code",
        "colab": {}
      },
      "cell_type": "code",
      "source": [
        "# save as JSON\n",
        "pickle.dump( model.to_json(), open( model_type+\"_model_json.pkl\", \"wb\" ) )"
      ],
      "execution_count": 0,
      "outputs": []
    },
    {
      "metadata": {
        "id": "xAFev6IVvItw",
        "colab_type": "text"
      },
      "cell_type": "markdown",
      "source": [
        "## Fit Model Many Times"
      ]
    },
    {
      "metadata": {
        "id": "mq3FqVvuyPUS",
        "colab_type": "code",
        "outputId": "3ea81d84-a97a-4b32-9e5c-782c45b7e6b9",
        "colab": {
          "base_uri": "https://localhost:8080/",
          "height": 3242
        }
      },
      "cell_type": "code",
      "source": [
        "collect = []\n",
        "for rep in range(3):\n",
        "  model, turbo = prep_model(**hyper)\n",
        "  hist = model.fit_generator(\n",
        "      datagen.flow(x_train, y_train, batch_size=hyper['batch_size']),\n",
        "      steps_per_epoch = BATCHES_PER_EPOCH,\n",
        "      validation_data=(x_test, y_test),\n",
        "      epochs=turbo.epochs(), verbose=2, \n",
        "      callbacks=[turbo]\n",
        "  )\n",
        "  model.save_weights(model_type+'_weights_rep{}.h5'.format(rep))\n",
        "  collect.append(hist.history)\n",
        "  print('\\n\\nRep ',rep+1,' Max Validation Accuracy = ',\n",
        "        np.max(hist.history['val_acc']),\"\\n\")"
      ],
      "execution_count": 72,
      "outputs": [
        {
          "output_type": "stream",
          "text": [
            "Epoch 1/30\n",
            " - 60s - loss: 1.8375 - acc: 0.4045 - val_loss: 1.8161 - val_acc: 0.4647\n",
            "Epoch 2/30\n",
            " - 56s - loss: 1.2772 - acc: 0.6023 - val_loss: 2.0482 - val_acc: 0.4437\n",
            "Epoch 3/30\n",
            " - 56s - loss: 1.0843 - acc: 0.6789 - val_loss: 1.5202 - val_acc: 0.5856\n",
            "Epoch 4/30\n",
            " - 56s - loss: 0.9978 - acc: 0.7190 - val_loss: 1.1386 - val_acc: 0.6768\n",
            "Epoch 5/30\n",
            " - 56s - loss: 0.9647 - acc: 0.7372 - val_loss: 1.1749 - val_acc: 0.6569\n",
            "Epoch 6/30\n",
            " - 56s - loss: 0.9331 - acc: 0.7530 - val_loss: 1.0644 - val_acc: 0.7093\n",
            "Epoch 7/30\n",
            " - 56s - loss: 0.8949 - acc: 0.7705 - val_loss: 1.0942 - val_acc: 0.7169\n",
            "Epoch 8/30\n",
            " - 56s - loss: 0.8647 - acc: 0.7821 - val_loss: 1.5160 - val_acc: 0.6354\n",
            "Epoch 9/30\n",
            " - 56s - loss: 0.8324 - acc: 0.7939 - val_loss: 1.1365 - val_acc: 0.7216\n",
            "Epoch 10/30\n",
            " - 56s - loss: 0.8106 - acc: 0.8008 - val_loss: 1.0421 - val_acc: 0.7479\n",
            "Epoch 11/30\n",
            " - 56s - loss: 0.7849 - acc: 0.8107 - val_loss: 1.0068 - val_acc: 0.7567\n",
            "Epoch 12/30\n",
            " - 56s - loss: 0.7722 - acc: 0.8145 - val_loss: 0.9255 - val_acc: 0.7777\n",
            "Epoch 13/30\n",
            " - 56s - loss: 0.7465 - acc: 0.8200 - val_loss: 1.0890 - val_acc: 0.7403\n",
            "Epoch 14/30\n",
            " - 56s - loss: 0.7342 - acc: 0.8266 - val_loss: 0.8347 - val_acc: 0.7932\n",
            "Epoch 15/30\n",
            " - 56s - loss: 0.7127 - acc: 0.8330 - val_loss: 0.7583 - val_acc: 0.8318\n",
            "Epoch 16/30\n",
            " - 56s - loss: 0.6984 - acc: 0.8365 - val_loss: 0.7994 - val_acc: 0.8072\n",
            "Epoch 17/30\n",
            " - 56s - loss: 0.6764 - acc: 0.8417 - val_loss: 0.9565 - val_acc: 0.7752\n",
            "Epoch 18/30\n",
            " - 57s - loss: 0.6570 - acc: 0.8497 - val_loss: 0.7503 - val_acc: 0.8203\n",
            "Epoch 19/30\n",
            " - 56s - loss: 0.6373 - acc: 0.8530 - val_loss: 0.9887 - val_acc: 0.7647\n",
            "Epoch 20/30\n",
            " - 57s - loss: 0.6164 - acc: 0.8578 - val_loss: 0.8993 - val_acc: 0.7800\n",
            "Epoch 21/30\n",
            " - 57s - loss: 0.5932 - acc: 0.8649 - val_loss: 0.8781 - val_acc: 0.7821\n",
            "Epoch 22/30\n",
            " - 56s - loss: 0.5789 - acc: 0.8691 - val_loss: 0.6229 - val_acc: 0.8550\n",
            "Epoch 23/30\n",
            " - 56s - loss: 0.5470 - acc: 0.8778 - val_loss: 0.6274 - val_acc: 0.8557\n",
            "Epoch 24/30\n",
            " - 56s - loss: 0.5266 - acc: 0.8822 - val_loss: 0.6444 - val_acc: 0.8423\n",
            "Epoch 25/30\n",
            " - 56s - loss: 0.4933 - acc: 0.8914 - val_loss: 0.6491 - val_acc: 0.8468\n",
            "Epoch 26/30\n",
            " - 57s - loss: 0.4732 - acc: 0.8968 - val_loss: 0.5221 - val_acc: 0.8818\n",
            "Epoch 27/30\n",
            " - 57s - loss: 0.4398 - acc: 0.9061 - val_loss: 0.5494 - val_acc: 0.8774\n",
            "Epoch 28/30\n",
            " - 57s - loss: 0.4090 - acc: 0.9150 - val_loss: 0.4888 - val_acc: 0.8927\n",
            "Epoch 29/30\n",
            " - 57s - loss: 0.3784 - acc: 0.9232 - val_loss: 0.4694 - val_acc: 0.8986\n",
            "Epoch 30/30\n",
            " - 57s - loss: 0.3523 - acc: 0.9321 - val_loss: 0.4306 - val_acc: 0.9099\n",
            "\n",
            "\n",
            "Rep  1  Max Validation Accuracy =  0.9099 \n",
            "\n",
            "Epoch 1/30\n",
            " - 61s - loss: 1.8079 - acc: 0.4041 - val_loss: 2.7409 - val_acc: 0.3348\n",
            "Epoch 2/30\n",
            " - 57s - loss: 1.3040 - acc: 0.5895 - val_loss: 1.4923 - val_acc: 0.5276\n",
            "Epoch 3/30\n",
            " - 57s - loss: 1.1302 - acc: 0.6598 - val_loss: 1.7282 - val_acc: 0.5329\n",
            "Epoch 4/30\n",
            " - 57s - loss: 1.0263 - acc: 0.7028 - val_loss: 2.3251 - val_acc: 0.4618\n",
            "Epoch 5/30\n",
            " - 57s - loss: 0.9702 - acc: 0.7327 - val_loss: 1.8387 - val_acc: 0.5363\n",
            "Epoch 6/30\n",
            " - 57s - loss: 0.9437 - acc: 0.7474 - val_loss: 0.9607 - val_acc: 0.7570\n",
            "Epoch 7/30\n",
            " - 57s - loss: 0.8957 - acc: 0.7671 - val_loss: 1.2359 - val_acc: 0.6689\n",
            "Epoch 8/30\n",
            " - 57s - loss: 0.8588 - acc: 0.7812 - val_loss: 0.8895 - val_acc: 0.7737\n",
            "Epoch 9/30\n",
            " - 57s - loss: 0.8321 - acc: 0.7910 - val_loss: 0.9859 - val_acc: 0.7510\n",
            "Epoch 10/30\n",
            " - 57s - loss: 0.8064 - acc: 0.7996 - val_loss: 1.2611 - val_acc: 0.6866\n",
            "Epoch 11/30\n",
            " - 57s - loss: 0.7884 - acc: 0.8069 - val_loss: 1.4194 - val_acc: 0.6181\n",
            "Epoch 12/30\n",
            " - 57s - loss: 0.7616 - acc: 0.8152 - val_loss: 1.8175 - val_acc: 0.5924\n",
            "Epoch 13/30\n",
            " - 57s - loss: 0.7478 - acc: 0.8200 - val_loss: 0.9024 - val_acc: 0.7841\n",
            "Epoch 14/30\n",
            " - 57s - loss: 0.7254 - acc: 0.8273 - val_loss: 0.7780 - val_acc: 0.8173\n",
            "Epoch 15/30\n",
            " - 57s - loss: 0.7110 - acc: 0.8310 - val_loss: 1.1105 - val_acc: 0.7173\n",
            "Epoch 16/30\n",
            " - 57s - loss: 0.6891 - acc: 0.8370 - val_loss: 0.7794 - val_acc: 0.8181\n",
            "Epoch 17/30\n",
            " - 57s - loss: 0.6712 - acc: 0.8438 - val_loss: 0.7276 - val_acc: 0.8291\n",
            "Epoch 18/30\n",
            " - 57s - loss: 0.6608 - acc: 0.8434 - val_loss: 1.2014 - val_acc: 0.6998\n",
            "Epoch 19/30\n",
            " - 56s - loss: 0.6318 - acc: 0.8545 - val_loss: 0.9922 - val_acc: 0.7677\n",
            "Epoch 20/30\n",
            " - 58s - loss: 0.6221 - acc: 0.8544 - val_loss: 0.9476 - val_acc: 0.7620\n",
            "Epoch 21/30\n",
            " - 58s - loss: 0.5918 - acc: 0.8645 - val_loss: 0.7797 - val_acc: 0.8120\n",
            "Epoch 22/30\n",
            " - 57s - loss: 0.5728 - acc: 0.8698 - val_loss: 0.9823 - val_acc: 0.7769\n",
            "Epoch 23/30\n",
            " - 57s - loss: 0.5516 - acc: 0.8737 - val_loss: 0.6983 - val_acc: 0.8359\n",
            "Epoch 24/30\n",
            " - 57s - loss: 0.5275 - acc: 0.8821 - val_loss: 0.6890 - val_acc: 0.8376\n",
            "Epoch 25/30\n",
            " - 57s - loss: 0.5000 - acc: 0.8892 - val_loss: 0.6569 - val_acc: 0.8484\n",
            "Epoch 26/30\n",
            " - 57s - loss: 0.4733 - acc: 0.8956 - val_loss: 0.5902 - val_acc: 0.8643\n",
            "Epoch 27/30\n",
            " - 57s - loss: 0.4414 - acc: 0.9042 - val_loss: 0.6028 - val_acc: 0.8611\n",
            "Epoch 28/30\n",
            " - 57s - loss: 0.4107 - acc: 0.9132 - val_loss: 0.5112 - val_acc: 0.8843\n",
            "Epoch 29/30\n",
            " - 57s - loss: 0.3812 - acc: 0.9226 - val_loss: 0.4606 - val_acc: 0.8999\n",
            "Epoch 30/30\n",
            " - 57s - loss: 0.3540 - acc: 0.9311 - val_loss: 0.4508 - val_acc: 0.9043\n",
            "\n",
            "\n",
            "Rep  2  Max Validation Accuracy =  0.9043 \n",
            "\n",
            "Epoch 1/30\n",
            " - 61s - loss: 1.8384 - acc: 0.4119 - val_loss: 2.5497 - val_acc: 0.3889\n",
            "Epoch 2/30\n",
            " - 57s - loss: 1.3028 - acc: 0.5897 - val_loss: 1.5854 - val_acc: 0.5906\n",
            "Epoch 3/30\n",
            " - 57s - loss: 1.1130 - acc: 0.6668 - val_loss: 1.1264 - val_acc: 0.6813\n",
            "Epoch 4/30\n",
            " - 58s - loss: 1.0181 - acc: 0.7085 - val_loss: 3.5700 - val_acc: 0.3362\n",
            "Epoch 5/30\n",
            " - 57s - loss: 0.9685 - acc: 0.7342 - val_loss: 1.3848 - val_acc: 0.6304\n",
            "Epoch 6/30\n",
            " - 57s - loss: 0.9367 - acc: 0.7520 - val_loss: 1.4251 - val_acc: 0.6461\n",
            "Epoch 7/30\n",
            " - 57s - loss: 0.8943 - acc: 0.7706 - val_loss: 0.9843 - val_acc: 0.7402\n",
            "Epoch 8/30\n",
            " - 57s - loss: 0.8639 - acc: 0.7822 - val_loss: 1.2473 - val_acc: 0.7034\n",
            "Epoch 9/30\n",
            " - 57s - loss: 0.8332 - acc: 0.7919 - val_loss: 1.0088 - val_acc: 0.7344\n",
            "Epoch 10/30\n",
            " - 57s - loss: 0.8067 - acc: 0.8009 - val_loss: 1.3277 - val_acc: 0.6902\n",
            "Epoch 11/30\n",
            " - 57s - loss: 0.7795 - acc: 0.8092 - val_loss: 1.0676 - val_acc: 0.7335\n",
            "Epoch 12/30\n",
            " - 57s - loss: 0.7666 - acc: 0.8154 - val_loss: 1.0761 - val_acc: 0.7492\n",
            "Epoch 13/30\n",
            " - 57s - loss: 0.7389 - acc: 0.8258 - val_loss: 0.9875 - val_acc: 0.7605\n",
            "Epoch 14/30\n",
            " - 57s - loss: 0.7237 - acc: 0.8296 - val_loss: 0.8346 - val_acc: 0.8030\n",
            "Epoch 15/30\n",
            " - 57s - loss: 0.6975 - acc: 0.8369 - val_loss: 0.8633 - val_acc: 0.7878\n",
            "Epoch 16/30\n",
            " - 56s - loss: 0.6858 - acc: 0.8405 - val_loss: 0.8987 - val_acc: 0.7900\n",
            "Epoch 17/30\n",
            " - 57s - loss: 0.6678 - acc: 0.8445 - val_loss: 1.1273 - val_acc: 0.7436\n",
            "Epoch 18/30\n",
            " - 57s - loss: 0.6501 - acc: 0.8510 - val_loss: 0.7689 - val_acc: 0.8162\n",
            "Epoch 19/30\n",
            " - 57s - loss: 0.6236 - acc: 0.8577 - val_loss: 0.6966 - val_acc: 0.8382\n",
            "Epoch 20/30\n",
            " - 57s - loss: 0.6151 - acc: 0.8602 - val_loss: 0.7828 - val_acc: 0.8066\n",
            "Epoch 21/30\n",
            " - 57s - loss: 0.5788 - acc: 0.8706 - val_loss: 0.7481 - val_acc: 0.8239\n",
            "Epoch 22/30\n",
            " - 58s - loss: 0.5654 - acc: 0.8734 - val_loss: 0.8351 - val_acc: 0.8075\n",
            "Epoch 23/30\n",
            " - 57s - loss: 0.5374 - acc: 0.8805 - val_loss: 0.6967 - val_acc: 0.8332\n",
            "Epoch 24/30\n",
            " - 57s - loss: 0.5172 - acc: 0.8853 - val_loss: 0.6613 - val_acc: 0.8447\n",
            "Epoch 25/30\n",
            " - 57s - loss: 0.4881 - acc: 0.8934 - val_loss: 0.6403 - val_acc: 0.8484\n",
            "Epoch 26/30\n",
            " - 57s - loss: 0.4618 - acc: 0.9002 - val_loss: 0.6908 - val_acc: 0.8388\n",
            "Epoch 27/30\n",
            " - 57s - loss: 0.4323 - acc: 0.9082 - val_loss: 0.5239 - val_acc: 0.8813\n",
            "Epoch 28/30\n",
            " - 56s - loss: 0.4057 - acc: 0.9155 - val_loss: 0.5082 - val_acc: 0.8866\n",
            "Epoch 29/30\n",
            " - 56s - loss: 0.3681 - acc: 0.9279 - val_loss: 0.4352 - val_acc: 0.9074\n",
            "Epoch 30/30\n",
            " - 57s - loss: 0.3452 - acc: 0.9351 - val_loss: 0.4328 - val_acc: 0.9108\n",
            "\n",
            "\n",
            "Rep  3  Max Validation Accuracy =  0.9108 \n",
            "\n"
          ],
          "name": "stdout"
        }
      ]
    },
    {
      "metadata": {
        "id": "_2Onz5NnmeDQ",
        "colab_type": "text"
      },
      "cell_type": "markdown",
      "source": [
        "# Variability Analysis"
      ]
    },
    {
      "metadata": {
        "id": "IOj5RSbMyTBo",
        "colab_type": "code",
        "outputId": "cbb395bf-8d30-471f-f37e-5664f96c97b0",
        "colab": {
          "base_uri": "https://localhost:8080/",
          "height": 34
        }
      },
      "cell_type": "code",
      "source": [
        "print('Parameters: ',hyper)"
      ],
      "execution_count": 73,
      "outputs": [
        {
          "output_type": "stream",
          "text": [
            "Parameters:  {'lr': 0.16, 'rho': 0.93, 'alpha': 0.00015, 'augmentation_factor': 1.5, 'batch_size': 128}\n"
          ],
          "name": "stdout"
        }
      ]
    },
    {
      "metadata": {
        "id": "Xwe_bGX69P8o",
        "colab_type": "code",
        "colab": {
          "base_uri": "https://localhost:8080/",
          "height": 389
        },
        "outputId": "621e6b81-f5d6-458b-d96a-3581e7ce8331"
      },
      "cell_type": "code",
      "source": [
        "fig, ax = plt.subplots(1,2,figsize=(12,6))\n",
        "colors_ = ['r','g','b','k','m','c','y']\n",
        "for i,h in enumerate(collect):\n",
        "  ax[0].plot(h['loss'],colors_[i]+\"-\",label='Train_{}'.format(i+1))\n",
        "  ax[0].plot(h['val_loss'],colors_[i]+\"o\",label='Valid_{}'.format(i+1))\n",
        "  ax[0].legend()\n",
        "  ax[0].set_title('Log Loss')\n",
        "for i,h in enumerate(collect):\n",
        "  ax[1].plot(h['acc'],colors_[i]+\"-\",label='Train_{}'.format(i+1))\n",
        "  ax[1].plot(h['val_acc'],colors_[i]+\"o\",label='Valid_{}'.format(i+1))\n",
        "  ax[1].legend()\n",
        "  ax[1].set_title('Accuracy')\n",
        "               \n",
        "plt.show()"
      ],
      "execution_count": 74,
      "outputs": [
        {
          "output_type": "display_data",
          "data": {
            "image/png": "[encoded data removed]",
            "text/plain": [
              "<Figure size 864x432 with 2 Axes>"
            ]
          },
          "metadata": {
            "tags": []
          }
        }
      ]
    },
    {
      "metadata": {
        "id": "B8qcMvWI9RrB",
        "colab_type": "code",
        "colab": {
          "base_uri": "https://localhost:8080/",
          "height": 136
        },
        "outputId": "a391cf33-c2d5-41f7-9a28-7c8bdc534a50"
      },
      "cell_type": "code",
      "source": [
        "tmp = pd.DataFrame([h['val_acc'][-10:] for h in collect])\n",
        "tmp"
      ],
      "execution_count": 75,
      "outputs": [
        {
          "output_type": "execute_result",
          "data": {
            "text/html": [
              "<div>\n",
              "<style scoped>\n",
              "    .dataframe tbody tr th:only-of-type {\n",
              "        vertical-align: middle;\n",
              "    }\n",
              "\n",
              "    .dataframe tbody tr th {\n",
              "        vertical-align: top;\n",
              "    }\n",
              "\n",
              "    .dataframe thead th {\n",
              "        text-align: right;\n",
              "    }\n",
              "</style>\n",
              "<table border=\"1\" class=\"dataframe\">\n",
              "  <thead>\n",
              "    <tr style=\"text-align: right;\">\n",
              "      <th></th>\n",
              "      <th>0</th>\n",
              "      <th>1</th>\n",
              "      <th>2</th>\n",
              "      <th>3</th>\n",
              "      <th>4</th>\n",
              "      <th>5</th>\n",
              "      <th>6</th>\n",
              "      <th>7</th>\n",
              "      <th>8</th>\n",
              "      <th>9</th>\n",
              "    </tr>\n",
              "  </thead>\n",
              "  <tbody>\n",
              "    <tr>\n",
              "      <th>0</th>\n",
              "      <td>0.7821</td>\n",
              "      <td>0.8550</td>\n",
              "      <td>0.8557</td>\n",
              "      <td>0.8423</td>\n",
              "      <td>0.8468</td>\n",
              "      <td>0.8818</td>\n",
              "      <td>0.8774</td>\n",
              "      <td>0.8927</td>\n",
              "      <td>0.8986</td>\n",
              "      <td>0.9099</td>\n",
              "    </tr>\n",
              "    <tr>\n",
              "      <th>1</th>\n",
              "      <td>0.8120</td>\n",
              "      <td>0.7769</td>\n",
              "      <td>0.8359</td>\n",
              "      <td>0.8376</td>\n",
              "      <td>0.8484</td>\n",
              "      <td>0.8643</td>\n",
              "      <td>0.8611</td>\n",
              "      <td>0.8843</td>\n",
              "      <td>0.8999</td>\n",
              "      <td>0.9043</td>\n",
              "    </tr>\n",
              "    <tr>\n",
              "      <th>2</th>\n",
              "      <td>0.8239</td>\n",
              "      <td>0.8075</td>\n",
              "      <td>0.8332</td>\n",
              "      <td>0.8447</td>\n",
              "      <td>0.8484</td>\n",
              "      <td>0.8388</td>\n",
              "      <td>0.8813</td>\n",
              "      <td>0.8866</td>\n",
              "      <td>0.9074</td>\n",
              "      <td>0.9108</td>\n",
              "    </tr>\n",
              "  </tbody>\n",
              "</table>\n",
              "</div>"
            ],
            "text/plain": [
              "        0       1       2       3       4       5       6       7       8  \\\n",
              "0  0.7821  0.8550  0.8557  0.8423  0.8468  0.8818  0.8774  0.8927  0.8986   \n",
              "1  0.8120  0.7769  0.8359  0.8376  0.8484  0.8643  0.8611  0.8843  0.8999   \n",
              "2  0.8239  0.8075  0.8332  0.8447  0.8484  0.8388  0.8813  0.8866  0.9074   \n",
              "\n",
              "        9  \n",
              "0  0.9099  \n",
              "1  0.9043  \n",
              "2  0.9108  "
            ]
          },
          "metadata": {
            "tags": []
          },
          "execution_count": 75
        }
      ]
    },
    {
      "metadata": {
        "id": "42jqcPnprfQG",
        "colab_type": "code",
        "colab": {
          "base_uri": "https://localhost:8080/",
          "height": 202
        },
        "outputId": "a68945a8-3f20-4d11-e1d2-320cc44c09a0"
      },
      "cell_type": "code",
      "source": [
        "np.std(tmp)"
      ],
      "execution_count": 76,
      "outputs": [
        {
          "output_type": "execute_result",
          "data": {
            "text/plain": [
              "0    0.017584\n",
              "1    0.032132\n",
              "2    0.010031\n",
              "3    0.002949\n",
              "4    0.000754\n",
              "5    0.017656\n",
              "6    0.008749\n",
              "7    0.003544\n",
              "8    0.003878\n",
              "9    0.002876\n",
              "dtype: float64"
            ]
          },
          "metadata": {
            "tags": []
          },
          "execution_count": 76
        }
      ]
    }
  ]
}