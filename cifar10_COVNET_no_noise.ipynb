{
  "nbformat": 4,
  "nbformat_minor": 0,
  "metadata": {
    "colab": {
      "name": "cifar10_COVNET_no_noise.ipynb",
      "version": "0.3.2",
      "provenance": [],
      "collapsed_sections": [],
      "toc_visible": true,
      "include_colab_link": true
    },
    "kernelspec": {
      "display_name": "Python 3",
      "language": "python",
      "name": "python3"
    },
    "accelerator": "GPU"
  },
  "cells": [
    {
      "cell_type": "markdown",
      "metadata": {
        "id": "view-in-github",
        "colab_type": "text"
      },
      "source": [
        "<a href=\"https://colab.research.google.com/github/ispapadakis/cifar10/blob/master/cifar10_COVNET_no_noise.ipynb\" target=\"_parent\"><img src=\"https://colab.research.google.com/assets/colab-badge.svg\" alt=\"Open In Colab\"/></a>"
      ]
    },
    {
      "metadata": {
        "colab_type": "text",
        "id": "PB4lWGVcN184"
      },
      "cell_type": "markdown",
      "source": [
        "# CIFAR-10 Analysis - No Noise\n",
        "\n",
        "---\n",
        "\n",
        "- Architecture: Sequential ConvNet\n",
        "- Data Augmentation: Horizontal Flip, Rotate, Shift, Zoom\n"
      ]
    },
    {
      "metadata": {
        "colab_type": "text",
        "id": "BXFFVsvUOkzE"
      },
      "cell_type": "markdown",
      "source": [
        "# Load Data and Libraries"
      ]
    },
    {
      "metadata": {
        "colab_type": "code",
        "id": "qMr82Z-A553Y",
        "outputId": "31e02786-1226-4d30-fbf4-41b4fa27c8f8",
        "colab": {
          "base_uri": "https://localhost:8080/",
          "height": 34
        }
      },
      "cell_type": "code",
      "source": [
        "import matplotlib.pyplot as plt\n",
        "import numpy as np\n",
        "import pandas as pd\n",
        "import pickle\n",
        "\n",
        "import keras\n",
        "from keras.models import Sequential\n",
        "from keras.utils import np_utils\n",
        "from keras.preprocessing.image import ImageDataGenerator\n",
        "from keras.layers import Dense, Activation, Flatten, Dropout, BatchNormalization\n",
        "from keras.layers import Conv2D, MaxPooling2D\n",
        "from keras import regularizers, optimizers"
      ],
      "execution_count": 0,
      "outputs": [
        {
          "output_type": "stream",
          "text": [
            "Using TensorFlow backend.\n"
          ],
          "name": "stderr"
        }
      ]
    },
    {
      "metadata": {
        "colab_type": "code",
        "id": "10HC9rPq5F6S",
        "outputId": "169257dc-85d0-4ffd-a8d2-d93d6da9611e",
        "colab": {
          "base_uri": "https://localhost:8080/",
          "height": 50
        }
      },
      "cell_type": "code",
      "source": [
        "from keras.datasets import cifar10\n",
        "\n",
        "(x_train, y_train), (x_test, y_test) = cifar10.load_data()\n",
        "\n",
        "class_names = ['airplane', 'automobile', 'bird', 'cat', 'deer', 'dog', 'frog', 'horse', 'ship', 'truck']"
      ],
      "execution_count": 0,
      "outputs": [
        {
          "output_type": "stream",
          "text": [
            "Downloading data from https://www.cs.toronto.edu/~kriz/cifar-10-python.tar.gz\n",
            "170500096/170498071 [==============================] - 38s 0us/step\n"
          ],
          "name": "stdout"
        }
      ]
    },
    {
      "metadata": {
        "colab_type": "code",
        "id": "16pREXM25sGX",
        "outputId": "01f6cc42-62e8-45ce-bd2e-147a559d8694",
        "colab": {
          "base_uri": "https://localhost:8080/",
          "height": 133
        }
      },
      "cell_type": "code",
      "source": [
        "plt.figure(figsize=(1.2,1.5))\n",
        "plt.imshow(x_train[0].astype('uint8'))\n",
        "plt.suptitle(class_names[y_train[0][0]])\n",
        "plt.axis('off')\n",
        "plt.show()"
      ],
      "execution_count": 0,
      "outputs": [
        {
          "output_type": "display_data",
          "data": {
            "image/png": "[encoded data removed]",
            "text/plain": [
              "<Figure size 86.4x108 with 1 Axes>"
            ]
          },
          "metadata": {
            "tags": []
          }
        }
      ]
    },
    {
      "metadata": {
        "colab_type": "code",
        "id": "uvRxLaBmwctS",
        "colab": {}
      },
      "cell_type": "code",
      "source": [
        "# Normalize data.\n",
        "x_train = x_train.astype('float32') / 255\n",
        "x_test = x_test.astype('float32') / 255"
      ],
      "execution_count": 0,
      "outputs": []
    },
    {
      "metadata": {
        "colab_type": "code",
        "id": "4Tgp4I38wexy",
        "outputId": "20b0a080-813f-448f-aed1-0aaadb638bef",
        "colab": {
          "base_uri": "https://localhost:8080/",
          "height": 84
        }
      },
      "cell_type": "code",
      "source": [
        "# Subtracting pixel mean improves accuracy\n",
        "subtract_pixel_mean = True\n",
        "\n",
        "# If subtract pixel mean is enabled\n",
        "if subtract_pixel_mean:\n",
        "    x_train_mean = np.mean(x_train, axis=0)\n",
        "    x_train -= x_train_mean\n",
        "    x_test -= x_train_mean\n",
        "\n",
        "print('x_train shape:', x_train.shape)\n",
        "print(x_train.shape[0], 'train samples')\n",
        "print(x_test.shape[0], 'test samples')\n",
        "print('y_train shape:', y_train.shape)"
      ],
      "execution_count": 0,
      "outputs": [
        {
          "output_type": "stream",
          "text": [
            "x_train shape: (50000, 32, 32, 3)\n",
            "50000 train samples\n",
            "10000 test samples\n",
            "y_train shape: (50000, 1)\n"
          ],
          "name": "stdout"
        }
      ]
    },
    {
      "metadata": {
        "colab_type": "code",
        "id": "CO5Qj5qN5quH",
        "colab": {}
      },
      "cell_type": "code",
      "source": [
        "num_classes = 10\n",
        "y_train = np_utils.to_categorical(y_train,num_classes)\n",
        "y_test = np_utils.to_categorical(y_test,num_classes)"
      ],
      "execution_count": 0,
      "outputs": []
    },
    {
      "metadata": {
        "colab_type": "text",
        "id": "drAxtJAeOu-4"
      },
      "cell_type": "markdown",
      "source": [
        "# Model Architecture"
      ]
    },
    {
      "metadata": {
        "colab_type": "code",
        "id": "snBdFKWm9Rc3",
        "colab": {}
      },
      "cell_type": "code",
      "source": [
        "# Use Code from file, e.g.:\n",
        "# !python3 \"/content/drive/My Drive/app/mnist_cnn.py\""
      ],
      "execution_count": 0,
      "outputs": []
    },
    {
      "metadata": {
        "colab_type": "code",
        "id": "L-DJQ_TC6UEB",
        "outputId": "0ec5a04b-5955-4b8d-95d8-a83b224d2ce7",
        "colab": {
          "base_uri": "https://localhost:8080/",
          "height": 1129
        }
      },
      "cell_type": "code",
      "source": [
        "def covnet(baseMapNum = 64, weight_decay = 1e-4):\n",
        "  keras.backend.clear_session()\n",
        "  model = Sequential()\n",
        "  model.add(Conv2D(baseMapNum, (3,3), padding='same', kernel_regularizer=regularizers.l2(weight_decay), input_shape=x_train.shape[1:]))\n",
        "  model.add(Activation('relu'))\n",
        "  model.add(BatchNormalization())\n",
        "  model.add(Conv2D(baseMapNum, (3,3), padding='same', kernel_regularizer=regularizers.l2(weight_decay)))\n",
        "  model.add(Activation('relu'))\n",
        "  model.add(BatchNormalization())\n",
        "  model.add(MaxPooling2D(pool_size=(2,2)))\n",
        "  model.add(Dropout(0.2))\n",
        "\n",
        "  model.add(Conv2D(2*baseMapNum, (3,3), padding='same', kernel_regularizer=regularizers.l2(weight_decay)))\n",
        "  model.add(Activation('relu'))\n",
        "  model.add(BatchNormalization())\n",
        "  model.add(Conv2D(2*baseMapNum, (3,3), padding='same', kernel_regularizer=regularizers.l2(weight_decay)))\n",
        "  model.add(Activation('relu'))\n",
        "  model.add(BatchNormalization())\n",
        "  model.add(MaxPooling2D(pool_size=(2,2)))\n",
        "  model.add(Dropout(0.3))\n",
        "\n",
        "  model.add(Conv2D(4*baseMapNum, (3,3), padding='same', kernel_regularizer=regularizers.l2(weight_decay)))\n",
        "  model.add(Activation('relu'))\n",
        "  model.add(BatchNormalization())\n",
        "  model.add(Conv2D(4*baseMapNum, (3,3), padding='same', kernel_regularizer=regularizers.l2(weight_decay)))\n",
        "  model.add(Activation('relu'))\n",
        "  model.add(BatchNormalization())\n",
        "  model.add(MaxPooling2D(pool_size=(2,2)))\n",
        "  model.add(Dropout(0.45))\n",
        "\n",
        "  model.add(Flatten())\n",
        "  model.add(Dense(num_classes, activation='softmax'))\n",
        "\n",
        "  model.summary()\n",
        "  \n",
        "  return model\n",
        "\n",
        "model = covnet()"
      ],
      "execution_count": 0,
      "outputs": [
        {
          "output_type": "stream",
          "text": [
            "WARNING:tensorflow:From /usr/local/lib/python3.6/dist-packages/tensorflow/python/framework/op_def_library.py:263: colocate_with (from tensorflow.python.framework.ops) is deprecated and will be removed in a future version.\n",
            "Instructions for updating:\n",
            "Colocations handled automatically by placer.\n",
            "WARNING:tensorflow:From /usr/local/lib/python3.6/dist-packages/keras/backend/tensorflow_backend.py:3445: calling dropout (from tensorflow.python.ops.nn_ops) with keep_prob is deprecated and will be removed in a future version.\n",
            "Instructions for updating:\n",
            "Please use `rate` instead of `keep_prob`. Rate should be set to `rate = 1 - keep_prob`.\n",
            "_________________________________________________________________\n",
            "Layer (type)                 Output Shape              Param #   \n",
            "=================================================================\n",
            "conv2d_1 (Conv2D)            (None, 32, 32, 64)        1792      \n",
            "_________________________________________________________________\n",
            "activation_1 (Activation)    (None, 32, 32, 64)        0         \n",
            "_________________________________________________________________\n",
            "batch_normalization_1 (Batch (None, 32, 32, 64)        256       \n",
            "_________________________________________________________________\n",
            "conv2d_2 (Conv2D)            (None, 32, 32, 64)        36928     \n",
            "_________________________________________________________________\n",
            "activation_2 (Activation)    (None, 32, 32, 64)        0         \n",
            "_________________________________________________________________\n",
            "batch_normalization_2 (Batch (None, 32, 32, 64)        256       \n",
            "_________________________________________________________________\n",
            "max_pooling2d_1 (MaxPooling2 (None, 16, 16, 64)        0         \n",
            "_________________________________________________________________\n",
            "dropout_1 (Dropout)          (None, 16, 16, 64)        0         \n",
            "_________________________________________________________________\n",
            "conv2d_3 (Conv2D)            (None, 16, 16, 128)       73856     \n",
            "_________________________________________________________________\n",
            "activation_3 (Activation)    (None, 16, 16, 128)       0         \n",
            "_________________________________________________________________\n",
            "batch_normalization_3 (Batch (None, 16, 16, 128)       512       \n",
            "_________________________________________________________________\n",
            "conv2d_4 (Conv2D)            (None, 16, 16, 128)       147584    \n",
            "_________________________________________________________________\n",
            "activation_4 (Activation)    (None, 16, 16, 128)       0         \n",
            "_________________________________________________________________\n",
            "batch_normalization_4 (Batch (None, 16, 16, 128)       512       \n",
            "_________________________________________________________________\n",
            "max_pooling2d_2 (MaxPooling2 (None, 8, 8, 128)         0         \n",
            "_________________________________________________________________\n",
            "dropout_2 (Dropout)          (None, 8, 8, 128)         0         \n",
            "_________________________________________________________________\n",
            "conv2d_5 (Conv2D)            (None, 8, 8, 256)         295168    \n",
            "_________________________________________________________________\n",
            "activation_5 (Activation)    (None, 8, 8, 256)         0         \n",
            "_________________________________________________________________\n",
            "batch_normalization_5 (Batch (None, 8, 8, 256)         1024      \n",
            "_________________________________________________________________\n",
            "conv2d_6 (Conv2D)            (None, 8, 8, 256)         590080    \n",
            "_________________________________________________________________\n",
            "activation_6 (Activation)    (None, 8, 8, 256)         0         \n",
            "_________________________________________________________________\n",
            "batch_normalization_6 (Batch (None, 8, 8, 256)         1024      \n",
            "_________________________________________________________________\n",
            "max_pooling2d_3 (MaxPooling2 (None, 4, 4, 256)         0         \n",
            "_________________________________________________________________\n",
            "dropout_3 (Dropout)          (None, 4, 4, 256)         0         \n",
            "_________________________________________________________________\n",
            "flatten_1 (Flatten)          (None, 4096)              0         \n",
            "_________________________________________________________________\n",
            "dense_1 (Dense)              (None, 10)                40970     \n",
            "=================================================================\n",
            "Total params: 1,189,962\n",
            "Trainable params: 1,188,170\n",
            "Non-trainable params: 1,792\n",
            "_________________________________________________________________\n"
          ],
          "name": "stdout"
        }
      ]
    },
    {
      "metadata": {
        "colab_type": "text",
        "id": "zMwe1a8BO2zV"
      },
      "cell_type": "markdown",
      "source": [
        "# Data Augmentation"
      ]
    },
    {
      "metadata": {
        "colab_type": "code",
        "id": "xCY4qs1c6brH",
        "colab": {}
      },
      "cell_type": "code",
      "source": [
        "datagen = ImageDataGenerator(\n",
        "    featurewise_center=False,\n",
        "    samplewise_center=False,\n",
        "    featurewise_std_normalization=False,\n",
        "    samplewise_std_normalization=False,\n",
        "    zca_whitening=False,\n",
        "    zoom_range=[0.8,1.4],\n",
        "    rotation_range=20,\n",
        "    width_shift_range=0.2,\n",
        "    height_shift_range=0.1,\n",
        "    horizontal_flip=True,\n",
        "    vertical_flip=False\n",
        "    )\n",
        "datagen.fit(x_train)"
      ],
      "execution_count": 0,
      "outputs": []
    },
    {
      "metadata": {
        "colab_type": "text",
        "id": "UflN2ku1O7V5"
      },
      "cell_type": "markdown",
      "source": [
        "# Training"
      ]
    },
    {
      "metadata": {
        "colab_type": "code",
        "id": "ZbE7kb9l6cE8",
        "colab": {}
      },
      "cell_type": "code",
      "source": [
        "def update_history(h,h_new):\n",
        "    for k in h:\n",
        "        h[k] += h_new[k]\n",
        "    return h"
      ],
      "execution_count": 0,
      "outputs": []
    },
    {
      "metadata": {
        "colab_type": "code",
        "id": "_G0cI6yA6hfQ",
        "outputId": "e773ec14-ba6f-42f3-c1a2-0cf1461b7b84",
        "colab": {
          "base_uri": "https://localhost:8080/",
          "height": 1095
        }
      },
      "cell_type": "code",
      "source": [
        "batch_size = 64\n",
        "optz = keras.optimizers.rmsprop(lr=0.001,decay=1e-6)\n",
        "#optz = keras.optimizers.adam()\n",
        "model.compile(loss='categorical_crossentropy', optimizer=optz, metrics=['accuracy'])\n",
        "hist = model.fit_generator(datagen.flow(x_train, y_train, batch_size=batch_size),\n",
        "        steps_per_epoch=2*x_train.shape[0] // batch_size, epochs=30, verbose=2, validation_data=(x_test,y_test))\n",
        "model.save_weights('cifar10_ep{}.h5'.format(len(hist.history['loss'])))"
      ],
      "execution_count": 0,
      "outputs": [
        {
          "output_type": "stream",
          "text": [
            "WARNING:tensorflow:From /usr/local/lib/python3.6/dist-packages/tensorflow/python/ops/math_ops.py:3066: to_int32 (from tensorflow.python.ops.math_ops) is deprecated and will be removed in a future version.\n",
            "Instructions for updating:\n",
            "Use tf.cast instead.\n",
            "Epoch 1/30\n",
            " - 89s - loss: 1.8711 - acc: 0.4714 - val_loss: 1.4358 - val_acc: 0.6057\n",
            "Epoch 2/30\n",
            " - 84s - loss: 1.4510 - acc: 0.6185 - val_loss: 1.0558 - val_acc: 0.7212\n",
            "Epoch 3/30\n",
            " - 84s - loss: 1.3463 - acc: 0.6688 - val_loss: 1.1348 - val_acc: 0.7371\n",
            "Epoch 4/30\n",
            " - 85s - loss: 1.3073 - acc: 0.6984 - val_loss: 0.9399 - val_acc: 0.7853\n",
            "Epoch 5/30\n",
            " - 84s - loss: 1.2733 - acc: 0.7160 - val_loss: 0.8925 - val_acc: 0.7914\n",
            "Epoch 6/30\n",
            " - 84s - loss: 1.2519 - acc: 0.7342 - val_loss: 0.9384 - val_acc: 0.7850\n",
            "Epoch 7/30\n",
            " - 85s - loss: 1.3018 - acc: 0.7327 - val_loss: 1.5402 - val_acc: 0.7589\n",
            "Epoch 8/30\n",
            " - 84s - loss: 1.2561 - acc: 0.7436 - val_loss: 1.0063 - val_acc: 0.7921\n",
            "Epoch 9/30\n",
            " - 84s - loss: 1.1910 - acc: 0.7549 - val_loss: 0.9273 - val_acc: 0.8071\n",
            "Epoch 10/30\n",
            " - 84s - loss: 1.1923 - acc: 0.7625 - val_loss: 0.8984 - val_acc: 0.8135\n",
            "Epoch 11/30\n",
            " - 84s - loss: 1.1337 - acc: 0.7701 - val_loss: 0.8422 - val_acc: 0.8354\n",
            "Epoch 12/30\n",
            " - 84s - loss: 1.1083 - acc: 0.7761 - val_loss: 0.9409 - val_acc: 0.8209\n",
            "Epoch 13/30\n",
            " - 84s - loss: 1.0880 - acc: 0.7834 - val_loss: 0.8602 - val_acc: 0.8266\n",
            "Epoch 14/30\n",
            " - 84s - loss: 1.0935 - acc: 0.7825 - val_loss: 0.8537 - val_acc: 0.8232\n",
            "Epoch 15/30\n",
            " - 84s - loss: 1.1303 - acc: 0.7817 - val_loss: 0.8044 - val_acc: 0.8448\n",
            "Epoch 16/30\n",
            " - 84s - loss: 1.1241 - acc: 0.7841 - val_loss: 0.8736 - val_acc: 0.8323\n",
            "Epoch 17/30\n",
            " - 84s - loss: 1.1347 - acc: 0.7881 - val_loss: 0.9809 - val_acc: 0.8076\n",
            "Epoch 18/30\n",
            " - 84s - loss: 1.0978 - acc: 0.7907 - val_loss: 1.0380 - val_acc: 0.7965\n",
            "Epoch 19/30\n",
            " - 84s - loss: 1.0811 - acc: 0.7942 - val_loss: 0.8567 - val_acc: 0.8298\n",
            "Epoch 20/30\n",
            " - 84s - loss: 1.0604 - acc: 0.7967 - val_loss: 0.8781 - val_acc: 0.8377\n",
            "Epoch 21/30\n",
            " - 84s - loss: 1.0440 - acc: 0.8001 - val_loss: 0.7871 - val_acc: 0.8552\n",
            "Epoch 22/30\n",
            " - 84s - loss: 1.0404 - acc: 0.8038 - val_loss: 0.7624 - val_acc: 0.8598\n",
            "Epoch 23/30\n",
            " - 84s - loss: 1.0402 - acc: 0.8029 - val_loss: 0.8359 - val_acc: 0.8445\n",
            "Epoch 24/30\n",
            " - 84s - loss: 0.9974 - acc: 0.8081 - val_loss: 0.8041 - val_acc: 0.8629\n",
            "Epoch 25/30\n",
            " - 84s - loss: 1.0519 - acc: 0.8051 - val_loss: 0.7596 - val_acc: 0.8538\n",
            "Epoch 26/30\n",
            " - 85s - loss: 1.0496 - acc: 0.8047 - val_loss: 0.8748 - val_acc: 0.8436\n",
            "Epoch 27/30\n",
            " - 84s - loss: 1.0064 - acc: 0.8099 - val_loss: 0.9292 - val_acc: 0.8158\n",
            "Epoch 28/30\n",
            " - 84s - loss: 0.9739 - acc: 0.8149 - val_loss: 0.7656 - val_acc: 0.8580\n",
            "Epoch 29/30\n",
            " - 84s - loss: 0.9739 - acc: 0.8137 - val_loss: 0.8647 - val_acc: 0.8380\n",
            "Epoch 30/30\n",
            " - 84s - loss: 0.9845 - acc: 0.8128 - val_loss: 0.7350 - val_acc: 0.8589\n"
          ],
          "name": "stdout"
        }
      ]
    },
    {
      "metadata": {
        "colab_type": "code",
        "id": "bDIfj-6HHI4J",
        "outputId": "2ef67c21-b0f4-433c-aef8-7def1bf81837",
        "colab": {
          "base_uri": "https://localhost:8080/",
          "height": 347
        }
      },
      "cell_type": "code",
      "source": [
        "plt.plot(hist.history['val_acc'],label='val_acc')\n",
        "plt.plot(hist.history['acc'],label='acc')\n",
        "plt.legend()\n",
        "plt.grid()\n",
        "plt.show()"
      ],
      "execution_count": 0,
      "outputs": [
        {
          "output_type": "display_data",
          "data": {
            "image/png": "[encoded data removed]",
            "text/plain": [
              "<Figure size 576x396 with 1 Axes>"
            ]
          },
          "metadata": {
            "tags": []
          }
        }
      ]
    },
    {
      "metadata": {
        "colab_type": "code",
        "id": "XLakYMdh6oWM",
        "colab": {}
      },
      "cell_type": "code",
      "source": [
        "optz = keras.optimizers.rmsprop(lr=0.0007,decay=1e-6)\n",
        "model.compile(loss='categorical_crossentropy', optimizer=optz, metrics=['accuracy'])\n",
        "hist2 = model.fit_generator(datagen.flow(x_train, y_train, batch_size=batch_size),\n",
        "                            steps_per_epoch=2*x_train.shape[0] // batch_size,epochs=30,verbose=0,validation_data=(x_test,y_test))\n",
        "hist.history = update_history(hist.history,hist2.history)\n",
        "model.save_weights('cifar10_ep{}.h5'.format(len(hist.history['loss'])))"
      ],
      "execution_count": 0,
      "outputs": []
    },
    {
      "metadata": {
        "colab_type": "code",
        "id": "d2mZWMj-HMso",
        "outputId": "4bc50fae-0315-4bc0-b495-0923e104dc9c",
        "colab": {
          "base_uri": "https://localhost:8080/",
          "height": 347
        }
      },
      "cell_type": "code",
      "source": [
        "plt.plot(hist.history['val_acc'],label='val_acc')\n",
        "plt.plot(hist.history['acc'],label='acc')\n",
        "plt.legend()\n",
        "plt.grid()\n",
        "plt.show()"
      ],
      "execution_count": 0,
      "outputs": [
        {
          "output_type": "display_data",
          "data": {
            "image/png": "[encoded data removed]",
            "text/plain": [
              "<Figure size 576x396 with 1 Axes>"
            ]
          },
          "metadata": {
            "tags": []
          }
        }
      ]
    },
    {
      "metadata": {
        "colab_type": "code",
        "id": "usFHcsLK6-U2",
        "outputId": "8e90ce1d-2595-4cc4-9750-41edaf4303f5",
        "colab": {
          "base_uri": "https://localhost:8080/",
          "height": 3377
        }
      },
      "cell_type": "code",
      "source": [
        "# checkpoint\n",
        "checkpoint = keras.callbacks.ModelCheckpoint(\"cifar10_best.h5\", monitor='val_acc', verbose=1, \n",
        "    save_best_only=True, mode='max')\n",
        "\n",
        "#optz = keras.optimizers.rmsprop(lr=0.0003,decay=1e-6)\n",
        "optz = keras.optimizers.adam(lr=0.00004)\n",
        "model.compile(loss='categorical_crossentropy', optimizer=optz, metrics=['accuracy'])\n",
        "hist2 = model.fit_generator(datagen.flow(x_train, y_train, batch_size=batch_size),\n",
        "                            steps_per_epoch=2*x_train.shape[0] // batch_size,epochs=100,verbose=0,validation_data=(x_test,y_test),\n",
        "                            callbacks=[checkpoint])\n",
        "\n",
        "hist.history = update_history(hist.history,hist2.history)\n",
        "pickle.dump( hist.history, open( \"history.pkl\", \"wb\" ) )"
      ],
      "execution_count": 0,
      "outputs": [
        {
          "output_type": "stream",
          "text": [
            "\n",
            "Epoch 00001: val_acc improved from -inf to 0.89740, saving model to cifar10_best.h5\n",
            "\n",
            "Epoch 00002: val_acc improved from 0.89740 to 0.90120, saving model to cifar10_best.h5\n",
            "\n",
            "Epoch 00003: val_acc did not improve from 0.90120\n",
            "\n",
            "Epoch 00004: val_acc improved from 0.90120 to 0.90240, saving model to cifar10_best.h5\n",
            "\n",
            "Epoch 00005: val_acc improved from 0.90240 to 0.90350, saving model to cifar10_best.h5\n",
            "\n",
            "Epoch 00006: val_acc did not improve from 0.90350\n",
            "\n",
            "Epoch 00007: val_acc did not improve from 0.90350\n",
            "\n",
            "Epoch 00008: val_acc improved from 0.90350 to 0.90660, saving model to cifar10_best.h5\n",
            "\n",
            "Epoch 00009: val_acc improved from 0.90660 to 0.90830, saving model to cifar10_best.h5\n",
            "\n",
            "Epoch 00010: val_acc did not improve from 0.90830\n",
            "\n",
            "Epoch 00011: val_acc improved from 0.90830 to 0.90870, saving model to cifar10_best.h5\n",
            "\n",
            "Epoch 00012: val_acc did not improve from 0.90870\n",
            "\n",
            "Epoch 00013: val_acc did not improve from 0.90870\n",
            "\n",
            "Epoch 00014: val_acc did not improve from 0.90870\n",
            "\n",
            "Epoch 00015: val_acc did not improve from 0.90870\n",
            "\n",
            "Epoch 00016: val_acc did not improve from 0.90870\n",
            "\n",
            "Epoch 00017: val_acc improved from 0.90870 to 0.90890, saving model to cifar10_best.h5\n",
            "\n",
            "Epoch 00018: val_acc improved from 0.90890 to 0.90980, saving model to cifar10_best.h5\n",
            "\n",
            "Epoch 00019: val_acc did not improve from 0.90980\n",
            "\n",
            "Epoch 00020: val_acc improved from 0.90980 to 0.91340, saving model to cifar10_best.h5\n",
            "\n",
            "Epoch 00021: val_acc did not improve from 0.91340\n",
            "\n",
            "Epoch 00022: val_acc did not improve from 0.91340\n",
            "\n",
            "Epoch 00023: val_acc did not improve from 0.91340\n",
            "\n",
            "Epoch 00024: val_acc did not improve from 0.91340\n",
            "\n",
            "Epoch 00025: val_acc did not improve from 0.91340\n",
            "\n",
            "Epoch 00026: val_acc did not improve from 0.91340\n",
            "\n",
            "Epoch 00027: val_acc did not improve from 0.91340\n",
            "\n",
            "Epoch 00028: val_acc did not improve from 0.91340\n",
            "\n",
            "Epoch 00029: val_acc did not improve from 0.91340\n",
            "\n",
            "Epoch 00030: val_acc did not improve from 0.91340\n",
            "\n",
            "Epoch 00031: val_acc improved from 0.91340 to 0.91450, saving model to cifar10_best.h5\n",
            "\n",
            "Epoch 00032: val_acc did not improve from 0.91450\n",
            "\n",
            "Epoch 00033: val_acc did not improve from 0.91450\n",
            "\n",
            "Epoch 00034: val_acc did not improve from 0.91450\n",
            "\n",
            "Epoch 00035: val_acc did not improve from 0.91450\n",
            "\n",
            "Epoch 00036: val_acc did not improve from 0.91450\n",
            "\n",
            "Epoch 00037: val_acc did not improve from 0.91450\n",
            "\n",
            "Epoch 00038: val_acc improved from 0.91450 to 0.91550, saving model to cifar10_best.h5\n",
            "\n",
            "Epoch 00039: val_acc did not improve from 0.91550\n",
            "\n",
            "Epoch 00040: val_acc did not improve from 0.91550\n",
            "\n",
            "Epoch 00041: val_acc did not improve from 0.91550\n",
            "\n",
            "Epoch 00042: val_acc did not improve from 0.91550\n",
            "\n",
            "Epoch 00043: val_acc did not improve from 0.91550\n",
            "\n",
            "Epoch 00044: val_acc did not improve from 0.91550\n",
            "\n",
            "Epoch 00045: val_acc improved from 0.91550 to 0.91740, saving model to cifar10_best.h5\n",
            "\n",
            "Epoch 00046: val_acc did not improve from 0.91740\n",
            "\n",
            "Epoch 00047: val_acc did not improve from 0.91740\n",
            "\n",
            "Epoch 00048: val_acc did not improve from 0.91740\n",
            "\n",
            "Epoch 00049: val_acc did not improve from 0.91740\n",
            "\n",
            "Epoch 00050: val_acc did not improve from 0.91740\n",
            "\n",
            "Epoch 00051: val_acc did not improve from 0.91740\n",
            "\n",
            "Epoch 00052: val_acc did not improve from 0.91740\n",
            "\n",
            "Epoch 00053: val_acc did not improve from 0.91740\n",
            "\n",
            "Epoch 00054: val_acc did not improve from 0.91740\n",
            "\n",
            "Epoch 00055: val_acc did not improve from 0.91740\n",
            "\n",
            "Epoch 00056: val_acc did not improve from 0.91740\n",
            "\n",
            "Epoch 00057: val_acc did not improve from 0.91740\n",
            "\n",
            "Epoch 00058: val_acc did not improve from 0.91740\n",
            "\n",
            "Epoch 00059: val_acc improved from 0.91740 to 0.91780, saving model to cifar10_best.h5\n",
            "\n",
            "Epoch 00060: val_acc did not improve from 0.91780\n",
            "\n",
            "Epoch 00061: val_acc did not improve from 0.91780\n",
            "\n",
            "Epoch 00062: val_acc did not improve from 0.91780\n",
            "\n",
            "Epoch 00063: val_acc did not improve from 0.91780\n",
            "\n",
            "Epoch 00064: val_acc did not improve from 0.91780\n",
            "\n",
            "Epoch 00065: val_acc improved from 0.91780 to 0.91800, saving model to cifar10_best.h5\n",
            "\n",
            "Epoch 00066: val_acc did not improve from 0.91800\n",
            "\n",
            "Epoch 00067: val_acc did not improve from 0.91800\n",
            "\n",
            "Epoch 00068: val_acc improved from 0.91800 to 0.91820, saving model to cifar10_best.h5\n",
            "\n",
            "Epoch 00069: val_acc improved from 0.91820 to 0.91910, saving model to cifar10_best.h5\n",
            "\n",
            "Epoch 00070: val_acc did not improve from 0.91910\n",
            "\n",
            "Epoch 00071: val_acc improved from 0.91910 to 0.92140, saving model to cifar10_best.h5\n",
            "\n",
            "Epoch 00072: val_acc did not improve from 0.92140\n",
            "\n",
            "Epoch 00073: val_acc did not improve from 0.92140\n",
            "\n",
            "Epoch 00074: val_acc did not improve from 0.92140\n",
            "\n",
            "Epoch 00075: val_acc did not improve from 0.92140\n",
            "\n",
            "Epoch 00076: val_acc did not improve from 0.92140\n",
            "\n",
            "Epoch 00077: val_acc did not improve from 0.92140\n",
            "\n",
            "Epoch 00078: val_acc did not improve from 0.92140\n",
            "\n",
            "Epoch 00079: val_acc did not improve from 0.92140\n",
            "\n",
            "Epoch 00080: val_acc did not improve from 0.92140\n",
            "\n",
            "Epoch 00081: val_acc did not improve from 0.92140\n",
            "\n",
            "Epoch 00082: val_acc did not improve from 0.92140\n",
            "\n",
            "Epoch 00083: val_acc did not improve from 0.92140\n",
            "\n",
            "Epoch 00084: val_acc did not improve from 0.92140\n",
            "\n",
            "Epoch 00085: val_acc did not improve from 0.92140\n",
            "\n",
            "Epoch 00086: val_acc did not improve from 0.92140\n",
            "\n",
            "Epoch 00087: val_acc did not improve from 0.92140\n",
            "\n",
            "Epoch 00088: val_acc did not improve from 0.92140\n",
            "\n",
            "Epoch 00089: val_acc did not improve from 0.92140\n",
            "\n",
            "Epoch 00090: val_acc did not improve from 0.92140\n",
            "\n",
            "Epoch 00091: val_acc did not improve from 0.92140\n",
            "\n",
            "Epoch 00092: val_acc did not improve from 0.92140\n",
            "\n",
            "Epoch 00093: val_acc did not improve from 0.92140\n",
            "\n",
            "Epoch 00094: val_acc did not improve from 0.92140\n",
            "\n",
            "Epoch 00095: val_acc did not improve from 0.92140\n",
            "\n",
            "Epoch 00096: val_acc did not improve from 0.92140\n",
            "\n",
            "Epoch 00097: val_acc improved from 0.92140 to 0.92160, saving model to cifar10_best.h5\n",
            "\n",
            "Epoch 00098: val_acc did not improve from 0.92160\n",
            "\n",
            "Epoch 00099: val_acc did not improve from 0.92160\n",
            "\n",
            "Epoch 00100: val_acc did not improve from 0.92160\n"
          ],
          "name": "stdout"
        }
      ]
    },
    {
      "metadata": {
        "colab_type": "text",
        "id": "ghxQJCCBPKhS"
      },
      "cell_type": "markdown",
      "source": [
        "# Model Evaluation"
      ]
    },
    {
      "metadata": {
        "colab_type": "code",
        "id": "QQShARUR6-pu",
        "outputId": "0789eca3-85ca-4e7e-8b4f-4521ed017f2a",
        "colab": {
          "base_uri": "https://localhost:8080/",
          "height": 347
        }
      },
      "cell_type": "code",
      "source": [
        "plt.plot(hist.history['val_acc'],label='val_acc')\n",
        "plt.plot(hist.history['acc'],label='acc')\n",
        "plt.legend()\n",
        "plt.grid()\n",
        "plt.show()"
      ],
      "execution_count": 0,
      "outputs": [
        {
          "output_type": "display_data",
          "data": {
            "image/png": "[encoded data removed]",
            "text/plain": [
              "<Figure size 576x396 with 1 Axes>"
            ]
          },
          "metadata": {
            "tags": []
          }
        }
      ]
    },
    {
      "metadata": {
        "colab_type": "code",
        "id": "ZjRaf63I7GuB",
        "outputId": "69407d5e-e59e-4c2b-e31c-1c05509e4b6f",
        "colab": {
          "base_uri": "https://localhost:8080/",
          "height": 347
        }
      },
      "cell_type": "code",
      "source": [
        "plt.plot(hist.history['val_loss'],label='val_loss')\n",
        "plt.plot(hist.history['loss'],label='loss')\n",
        "plt.legend()\n",
        "plt.show()"
      ],
      "execution_count": 0,
      "outputs": [
        {
          "output_type": "display_data",
          "data": {
            "image/png": "[encoded data removed]",
            "text/plain": [
              "<Figure size 576x396 with 1 Axes>"
            ]
          },
          "metadata": {
            "tags": []
          }
        }
      ]
    },
    {
      "metadata": {
        "colab_type": "code",
        "id": "ClMe6ypZttOP",
        "colab": {}
      },
      "cell_type": "code",
      "source": [
        "model.load_weights(\"cifar10_best.h5\")"
      ],
      "execution_count": 0,
      "outputs": []
    },
    {
      "metadata": {
        "colab_type": "code",
        "id": "4r6xgoUYtv61",
        "outputId": "01bc40ac-58cb-49f2-8b28-972471cab9c9",
        "colab": {
          "base_uri": "https://localhost:8080/",
          "height": 50
        }
      },
      "cell_type": "code",
      "source": [
        "scores = model.evaluate(x_test, y_test, batch_size=128, verbose=2)\n",
        "print('\\nTest result: %.3f loss: %.3f' % (scores[1]*100,scores[0]))"
      ],
      "execution_count": 0,
      "outputs": [
        {
          "output_type": "stream",
          "text": [
            "\n",
            "Test result: 92.160 loss: 0.404\n"
          ],
          "name": "stdout"
        }
      ]
    },
    {
      "metadata": {
        "colab_type": "code",
        "id": "Lq2amesft_ny",
        "colab": {}
      },
      "cell_type": "code",
      "source": [
        "# save as JSON\n",
        "pickle.dump( model.to_json(), open( \"model_json.pkl\", \"wb\" ) )"
      ],
      "execution_count": 0,
      "outputs": []
    },
    {
      "metadata": {
        "colab_type": "code",
        "id": "oZ0E-JpFuOm3",
        "colab": {}
      },
      "cell_type": "code",
      "source": [
        "prob_mat = model.predict(x_test)"
      ],
      "execution_count": 0,
      "outputs": []
    },
    {
      "metadata": {
        "colab_type": "code",
        "id": "w9wBKQ2ouDuy",
        "outputId": "26e17267-c0de-4050-e9cd-6c81bcd95d2f",
        "colab": {
          "base_uri": "https://localhost:8080/",
          "height": 238
        }
      },
      "cell_type": "code",
      "source": [
        "prob_max = pd.Series(prob_mat.max(axis=1))\n",
        "tbl = pd.crosstab(np.argmax(y_test,axis=1),np.argmax(prob_mat,axis=1))\n",
        "tbl.index = pd.Index(class_names)\n",
        "tbl.columns = ['pred_'+n for n in class_names]\n",
        "tbl['total'] = tbl.sum(axis=1)\n",
        "#tbl.loc['TOTAL',:] = tbl.sum(axis=0)\n",
        "tbl.astype('int').style.background_gradient(high=1.)"
      ],
      "execution_count": 0,
      "outputs": [
        {
          "output_type": "execute_result",
          "data": {
            "text/html": [
              "<style  type=\"text/css\" >\n",
              "    #T_b14d7944_30dc_11e9_bb9e_0242ac1c0002row0_col0 {\n",
              "            background-color:  #73a9cf;\n",
              "        }    #T_b14d7944_30dc_11e9_bb9e_0242ac1c0002row0_col1 {\n",
              "            background-color:  #fff7fb;\n",
              "        }    #T_b14d7944_30dc_11e9_bb9e_0242ac1c0002row0_col2 {\n",
              "            background-color:  #fef6fb;\n",
              "        }    #T_b14d7944_30dc_11e9_bb9e_0242ac1c0002row0_col3 {\n",
              "            background-color:  #fff7fb;\n",
              "        }    #T_b14d7944_30dc_11e9_bb9e_0242ac1c0002row0_col4 {\n",
              "            background-color:  #fff7fb;\n",
              "        }    #T_b14d7944_30dc_11e9_bb9e_0242ac1c0002row0_col5 {\n",
              "            background-color:  #fff7fb;\n",
              "        }    #T_b14d7944_30dc_11e9_bb9e_0242ac1c0002row0_col6 {\n",
              "            background-color:  #fff7fb;\n",
              "        }    #T_b14d7944_30dc_11e9_bb9e_0242ac1c0002row0_col7 {\n",
              "            background-color:  #fff7fb;\n",
              "        }    #T_b14d7944_30dc_11e9_bb9e_0242ac1c0002row0_col8 {\n",
              "            background-color:  #fdf5fa;\n",
              "        }    #T_b14d7944_30dc_11e9_bb9e_0242ac1c0002row0_col9 {\n",
              "            background-color:  #fef6fa;\n",
              "        }    #T_b14d7944_30dc_11e9_bb9e_0242ac1c0002row0_col10 {\n",
              "            background-color:  #fff7fb;\n",
              "        }    #T_b14d7944_30dc_11e9_bb9e_0242ac1c0002row1_col0 {\n",
              "            background-color:  #fff7fb;\n",
              "        }    #T_b14d7944_30dc_11e9_bb9e_0242ac1c0002row1_col1 {\n",
              "            background-color:  #73a9cf;\n",
              "        }    #T_b14d7944_30dc_11e9_bb9e_0242ac1c0002row1_col2 {\n",
              "            background-color:  #fff7fb;\n",
              "        }    #T_b14d7944_30dc_11e9_bb9e_0242ac1c0002row1_col3 {\n",
              "            background-color:  #fff7fb;\n",
              "        }    #T_b14d7944_30dc_11e9_bb9e_0242ac1c0002row1_col4 {\n",
              "            background-color:  #fff7fb;\n",
              "        }    #T_b14d7944_30dc_11e9_bb9e_0242ac1c0002row1_col5 {\n",
              "            background-color:  #fff7fb;\n",
              "        }    #T_b14d7944_30dc_11e9_bb9e_0242ac1c0002row1_col6 {\n",
              "            background-color:  #fff7fb;\n",
              "        }    #T_b14d7944_30dc_11e9_bb9e_0242ac1c0002row1_col7 {\n",
              "            background-color:  #fff7fb;\n",
              "        }    #T_b14d7944_30dc_11e9_bb9e_0242ac1c0002row1_col8 {\n",
              "            background-color:  #fff7fb;\n",
              "        }    #T_b14d7944_30dc_11e9_bb9e_0242ac1c0002row1_col9 {\n",
              "            background-color:  #fef6fa;\n",
              "        }    #T_b14d7944_30dc_11e9_bb9e_0242ac1c0002row1_col10 {\n",
              "            background-color:  #fff7fb;\n",
              "        }    #T_b14d7944_30dc_11e9_bb9e_0242ac1c0002row2_col0 {\n",
              "            background-color:  #fef6fa;\n",
              "        }    #T_b14d7944_30dc_11e9_bb9e_0242ac1c0002row2_col1 {\n",
              "            background-color:  #fff7fb;\n",
              "        }    #T_b14d7944_30dc_11e9_bb9e_0242ac1c0002row2_col2 {\n",
              "            background-color:  #73a9cf;\n",
              "        }    #T_b14d7944_30dc_11e9_bb9e_0242ac1c0002row2_col3 {\n",
              "            background-color:  #fef6fb;\n",
              "        }    #T_b14d7944_30dc_11e9_bb9e_0242ac1c0002row2_col4 {\n",
              "            background-color:  #fef6fa;\n",
              "        }    #T_b14d7944_30dc_11e9_bb9e_0242ac1c0002row2_col5 {\n",
              "            background-color:  #fef6fa;\n",
              "        }    #T_b14d7944_30dc_11e9_bb9e_0242ac1c0002row2_col6 {\n",
              "            background-color:  #fdf5fa;\n",
              "        }    #T_b14d7944_30dc_11e9_bb9e_0242ac1c0002row2_col7 {\n",
              "            background-color:  #fef6fb;\n",
              "        }    #T_b14d7944_30dc_11e9_bb9e_0242ac1c0002row2_col8 {\n",
              "            background-color:  #fff7fb;\n",
              "        }    #T_b14d7944_30dc_11e9_bb9e_0242ac1c0002row2_col9 {\n",
              "            background-color:  #fff7fb;\n",
              "        }    #T_b14d7944_30dc_11e9_bb9e_0242ac1c0002row2_col10 {\n",
              "            background-color:  #fff7fb;\n",
              "        }    #T_b14d7944_30dc_11e9_bb9e_0242ac1c0002row3_col0 {\n",
              "            background-color:  #fef6fb;\n",
              "        }    #T_b14d7944_30dc_11e9_bb9e_0242ac1c0002row3_col1 {\n",
              "            background-color:  #fff7fb;\n",
              "        }    #T_b14d7944_30dc_11e9_bb9e_0242ac1c0002row3_col2 {\n",
              "            background-color:  #fdf5fa;\n",
              "        }    #T_b14d7944_30dc_11e9_bb9e_0242ac1c0002row3_col3 {\n",
              "            background-color:  #73a9cf;\n",
              "        }    #T_b14d7944_30dc_11e9_bb9e_0242ac1c0002row3_col4 {\n",
              "            background-color:  #fdf5fa;\n",
              "        }    #T_b14d7944_30dc_11e9_bb9e_0242ac1c0002row3_col5 {\n",
              "            background-color:  #fbf3f9;\n",
              "        }    #T_b14d7944_30dc_11e9_bb9e_0242ac1c0002row3_col6 {\n",
              "            background-color:  #fbf4f9;\n",
              "        }    #T_b14d7944_30dc_11e9_bb9e_0242ac1c0002row3_col7 {\n",
              "            background-color:  #fef6fb;\n",
              "        }    #T_b14d7944_30dc_11e9_bb9e_0242ac1c0002row3_col8 {\n",
              "            background-color:  #fff7fb;\n",
              "        }    #T_b14d7944_30dc_11e9_bb9e_0242ac1c0002row3_col9 {\n",
              "            background-color:  #fef6fa;\n",
              "        }    #T_b14d7944_30dc_11e9_bb9e_0242ac1c0002row3_col10 {\n",
              "            background-color:  #fff7fb;\n",
              "        }    #T_b14d7944_30dc_11e9_bb9e_0242ac1c0002row4_col0 {\n",
              "            background-color:  #fff7fb;\n",
              "        }    #T_b14d7944_30dc_11e9_bb9e_0242ac1c0002row4_col1 {\n",
              "            background-color:  #fff7fb;\n",
              "        }    #T_b14d7944_30dc_11e9_bb9e_0242ac1c0002row4_col2 {\n",
              "            background-color:  #fef6fb;\n",
              "        }    #T_b14d7944_30dc_11e9_bb9e_0242ac1c0002row4_col3 {\n",
              "            background-color:  #fef6fb;\n",
              "        }    #T_b14d7944_30dc_11e9_bb9e_0242ac1c0002row4_col4 {\n",
              "            background-color:  #73a9cf;\n",
              "        }    #T_b14d7944_30dc_11e9_bb9e_0242ac1c0002row4_col5 {\n",
              "            background-color:  #fef6fb;\n",
              "        }    #T_b14d7944_30dc_11e9_bb9e_0242ac1c0002row4_col6 {\n",
              "            background-color:  #fdf5fa;\n",
              "        }    #T_b14d7944_30dc_11e9_bb9e_0242ac1c0002row4_col7 {\n",
              "            background-color:  #fff7fb;\n",
              "        }    #T_b14d7944_30dc_11e9_bb9e_0242ac1c0002row4_col8 {\n",
              "            background-color:  #fff7fb;\n",
              "        }    #T_b14d7944_30dc_11e9_bb9e_0242ac1c0002row4_col9 {\n",
              "            background-color:  #fff7fb;\n",
              "        }    #T_b14d7944_30dc_11e9_bb9e_0242ac1c0002row4_col10 {\n",
              "            background-color:  #fff7fb;\n",
              "        }    #T_b14d7944_30dc_11e9_bb9e_0242ac1c0002row5_col0 {\n",
              "            background-color:  #fff7fb;\n",
              "        }    #T_b14d7944_30dc_11e9_bb9e_0242ac1c0002row5_col1 {\n",
              "            background-color:  #fff7fb;\n",
              "        }    #T_b14d7944_30dc_11e9_bb9e_0242ac1c0002row5_col2 {\n",
              "            background-color:  #fef6fa;\n",
              "        }    #T_b14d7944_30dc_11e9_bb9e_0242ac1c0002row5_col3 {\n",
              "            background-color:  #f8f1f8;\n",
              "        }    #T_b14d7944_30dc_11e9_bb9e_0242ac1c0002row5_col4 {\n",
              "            background-color:  #fef6fa;\n",
              "        }    #T_b14d7944_30dc_11e9_bb9e_0242ac1c0002row5_col5 {\n",
              "            background-color:  #73a9cf;\n",
              "        }    #T_b14d7944_30dc_11e9_bb9e_0242ac1c0002row5_col6 {\n",
              "            background-color:  #fef6fb;\n",
              "        }    #T_b14d7944_30dc_11e9_bb9e_0242ac1c0002row5_col7 {\n",
              "            background-color:  #fef6fb;\n",
              "        }    #T_b14d7944_30dc_11e9_bb9e_0242ac1c0002row5_col8 {\n",
              "            background-color:  #fff7fb;\n",
              "        }    #T_b14d7944_30dc_11e9_bb9e_0242ac1c0002row5_col9 {\n",
              "            background-color:  #fff7fb;\n",
              "        }    #T_b14d7944_30dc_11e9_bb9e_0242ac1c0002row5_col10 {\n",
              "            background-color:  #fff7fb;\n",
              "        }    #T_b14d7944_30dc_11e9_bb9e_0242ac1c0002row6_col0 {\n",
              "            background-color:  #fff7fb;\n",
              "        }    #T_b14d7944_30dc_11e9_bb9e_0242ac1c0002row6_col1 {\n",
              "            background-color:  #fff7fb;\n",
              "        }    #T_b14d7944_30dc_11e9_bb9e_0242ac1c0002row6_col2 {\n",
              "            background-color:  #fef6fb;\n",
              "        }    #T_b14d7944_30dc_11e9_bb9e_0242ac1c0002row6_col3 {\n",
              "            background-color:  #fff7fb;\n",
              "        }    #T_b14d7944_30dc_11e9_bb9e_0242ac1c0002row6_col4 {\n",
              "            background-color:  #fff7fb;\n",
              "        }    #T_b14d7944_30dc_11e9_bb9e_0242ac1c0002row6_col5 {\n",
              "            background-color:  #fff7fb;\n",
              "        }    #T_b14d7944_30dc_11e9_bb9e_0242ac1c0002row6_col6 {\n",
              "            background-color:  #73a9cf;\n",
              "        }    #T_b14d7944_30dc_11e9_bb9e_0242ac1c0002row6_col7 {\n",
              "            background-color:  #fff7fb;\n",
              "        }    #T_b14d7944_30dc_11e9_bb9e_0242ac1c0002row6_col8 {\n",
              "            background-color:  #fff7fb;\n",
              "        }    #T_b14d7944_30dc_11e9_bb9e_0242ac1c0002row6_col9 {\n",
              "            background-color:  #fff7fb;\n",
              "        }    #T_b14d7944_30dc_11e9_bb9e_0242ac1c0002row6_col10 {\n",
              "            background-color:  #fff7fb;\n",
              "        }    #T_b14d7944_30dc_11e9_bb9e_0242ac1c0002row7_col0 {\n",
              "            background-color:  #fff7fb;\n",
              "        }    #T_b14d7944_30dc_11e9_bb9e_0242ac1c0002row7_col1 {\n",
              "            background-color:  #fff7fb;\n",
              "        }    #T_b14d7944_30dc_11e9_bb9e_0242ac1c0002row7_col2 {\n",
              "            background-color:  #fef6fb;\n",
              "        }    #T_b14d7944_30dc_11e9_bb9e_0242ac1c0002row7_col3 {\n",
              "            background-color:  #fef6fb;\n",
              "        }    #T_b14d7944_30dc_11e9_bb9e_0242ac1c0002row7_col4 {\n",
              "            background-color:  #fef6fa;\n",
              "        }    #T_b14d7944_30dc_11e9_bb9e_0242ac1c0002row7_col5 {\n",
              "            background-color:  #fff7fb;\n",
              "        }    #T_b14d7944_30dc_11e9_bb9e_0242ac1c0002row7_col6 {\n",
              "            background-color:  #fff7fb;\n",
              "        }    #T_b14d7944_30dc_11e9_bb9e_0242ac1c0002row7_col7 {\n",
              "            background-color:  #73a9cf;\n",
              "        }    #T_b14d7944_30dc_11e9_bb9e_0242ac1c0002row7_col8 {\n",
              "            background-color:  #fff7fb;\n",
              "        }    #T_b14d7944_30dc_11e9_bb9e_0242ac1c0002row7_col9 {\n",
              "            background-color:  #fff7fb;\n",
              "        }    #T_b14d7944_30dc_11e9_bb9e_0242ac1c0002row7_col10 {\n",
              "            background-color:  #fff7fb;\n",
              "        }    #T_b14d7944_30dc_11e9_bb9e_0242ac1c0002row8_col0 {\n",
              "            background-color:  #fef6fb;\n",
              "        }    #T_b14d7944_30dc_11e9_bb9e_0242ac1c0002row8_col1 {\n",
              "            background-color:  #fff7fb;\n",
              "        }    #T_b14d7944_30dc_11e9_bb9e_0242ac1c0002row8_col2 {\n",
              "            background-color:  #fff7fb;\n",
              "        }    #T_b14d7944_30dc_11e9_bb9e_0242ac1c0002row8_col3 {\n",
              "            background-color:  #fff7fb;\n",
              "        }    #T_b14d7944_30dc_11e9_bb9e_0242ac1c0002row8_col4 {\n",
              "            background-color:  #fff7fb;\n",
              "        }    #T_b14d7944_30dc_11e9_bb9e_0242ac1c0002row8_col5 {\n",
              "            background-color:  #fff7fb;\n",
              "        }    #T_b14d7944_30dc_11e9_bb9e_0242ac1c0002row8_col6 {\n",
              "            background-color:  #fff7fb;\n",
              "        }    #T_b14d7944_30dc_11e9_bb9e_0242ac1c0002row8_col7 {\n",
              "            background-color:  #fff7fb;\n",
              "        }    #T_b14d7944_30dc_11e9_bb9e_0242ac1c0002row8_col8 {\n",
              "            background-color:  #73a9cf;\n",
              "        }    #T_b14d7944_30dc_11e9_bb9e_0242ac1c0002row8_col9 {\n",
              "            background-color:  #fef6fb;\n",
              "        }    #T_b14d7944_30dc_11e9_bb9e_0242ac1c0002row8_col10 {\n",
              "            background-color:  #fff7fb;\n",
              "        }    #T_b14d7944_30dc_11e9_bb9e_0242ac1c0002row9_col0 {\n",
              "            background-color:  #fff7fb;\n",
              "        }    #T_b14d7944_30dc_11e9_bb9e_0242ac1c0002row9_col1 {\n",
              "            background-color:  #fdf5fa;\n",
              "        }    #T_b14d7944_30dc_11e9_bb9e_0242ac1c0002row9_col2 {\n",
              "            background-color:  #fff7fb;\n",
              "        }    #T_b14d7944_30dc_11e9_bb9e_0242ac1c0002row9_col3 {\n",
              "            background-color:  #fff7fb;\n",
              "        }    #T_b14d7944_30dc_11e9_bb9e_0242ac1c0002row9_col4 {\n",
              "            background-color:  #fff7fb;\n",
              "        }    #T_b14d7944_30dc_11e9_bb9e_0242ac1c0002row9_col5 {\n",
              "            background-color:  #fff7fb;\n",
              "        }    #T_b14d7944_30dc_11e9_bb9e_0242ac1c0002row9_col6 {\n",
              "            background-color:  #fff7fb;\n",
              "        }    #T_b14d7944_30dc_11e9_bb9e_0242ac1c0002row9_col7 {\n",
              "            background-color:  #fff7fb;\n",
              "        }    #T_b14d7944_30dc_11e9_bb9e_0242ac1c0002row9_col8 {\n",
              "            background-color:  #fff7fb;\n",
              "        }    #T_b14d7944_30dc_11e9_bb9e_0242ac1c0002row9_col9 {\n",
              "            background-color:  #73a9cf;\n",
              "        }    #T_b14d7944_30dc_11e9_bb9e_0242ac1c0002row9_col10 {\n",
              "            background-color:  #fff7fb;\n",
              "        }</style>  \n",
              "<table id=\"T_b14d7944_30dc_11e9_bb9e_0242ac1c0002\" > \n",
              "<thead>    <tr> \n",
              "        <th class=\"blank level0\" ></th> \n",
              "        <th class=\"col_heading level0 col0\" >pred_airplane</th> \n",
              "        <th class=\"col_heading level0 col1\" >pred_automobile</th> \n",
              "        <th class=\"col_heading level0 col2\" >pred_bird</th> \n",
              "        <th class=\"col_heading level0 col3\" >pred_cat</th> \n",
              "        <th class=\"col_heading level0 col4\" >pred_deer</th> \n",
              "        <th class=\"col_heading level0 col5\" >pred_dog</th> \n",
              "        <th class=\"col_heading level0 col6\" >pred_frog</th> \n",
              "        <th class=\"col_heading level0 col7\" >pred_horse</th> \n",
              "        <th class=\"col_heading level0 col8\" >pred_ship</th> \n",
              "        <th class=\"col_heading level0 col9\" >pred_truck</th> \n",
              "        <th class=\"col_heading level0 col10\" >total</th> \n",
              "    </tr></thead> \n",
              "<tbody>    <tr> \n",
              "        <th id=\"T_b14d7944_30dc_11e9_bb9e_0242ac1c0002level0_row0\" class=\"row_heading level0 row0\" >airplane</th> \n",
              "        <td id=\"T_b14d7944_30dc_11e9_bb9e_0242ac1c0002row0_col0\" class=\"data row0 col0\" >921</td> \n",
              "        <td id=\"T_b14d7944_30dc_11e9_bb9e_0242ac1c0002row0_col1\" class=\"data row0 col1\" >7</td> \n",
              "        <td id=\"T_b14d7944_30dc_11e9_bb9e_0242ac1c0002row0_col2\" class=\"data row0 col2\" >7</td> \n",
              "        <td id=\"T_b14d7944_30dc_11e9_bb9e_0242ac1c0002row0_col3\" class=\"data row0 col3\" >6</td> \n",
              "        <td id=\"T_b14d7944_30dc_11e9_bb9e_0242ac1c0002row0_col4\" class=\"data row0 col4\" >3</td> \n",
              "        <td id=\"T_b14d7944_30dc_11e9_bb9e_0242ac1c0002row0_col5\" class=\"data row0 col5\" >0</td> \n",
              "        <td id=\"T_b14d7944_30dc_11e9_bb9e_0242ac1c0002row0_col6\" class=\"data row0 col6\" >5</td> \n",
              "        <td id=\"T_b14d7944_30dc_11e9_bb9e_0242ac1c0002row0_col7\" class=\"data row0 col7\" >4</td> \n",
              "        <td id=\"T_b14d7944_30dc_11e9_bb9e_0242ac1c0002row0_col8\" class=\"data row0 col8\" >26</td> \n",
              "        <td id=\"T_b14d7944_30dc_11e9_bb9e_0242ac1c0002row0_col9\" class=\"data row0 col9\" >21</td> \n",
              "        <td id=\"T_b14d7944_30dc_11e9_bb9e_0242ac1c0002row0_col10\" class=\"data row0 col10\" >1000</td> \n",
              "    </tr>    <tr> \n",
              "        <th id=\"T_b14d7944_30dc_11e9_bb9e_0242ac1c0002level0_row1\" class=\"row_heading level0 row1\" >automobile</th> \n",
              "        <td id=\"T_b14d7944_30dc_11e9_bb9e_0242ac1c0002row1_col0\" class=\"data row1 col0\" >0</td> \n",
              "        <td id=\"T_b14d7944_30dc_11e9_bb9e_0242ac1c0002row1_col1\" class=\"data row1 col1\" >973</td> \n",
              "        <td id=\"T_b14d7944_30dc_11e9_bb9e_0242ac1c0002row1_col2\" class=\"data row1 col2\" >0</td> \n",
              "        <td id=\"T_b14d7944_30dc_11e9_bb9e_0242ac1c0002row1_col3\" class=\"data row1 col3\" >0</td> \n",
              "        <td id=\"T_b14d7944_30dc_11e9_bb9e_0242ac1c0002row1_col4\" class=\"data row1 col4\" >0</td> \n",
              "        <td id=\"T_b14d7944_30dc_11e9_bb9e_0242ac1c0002row1_col5\" class=\"data row1 col5\" >0</td> \n",
              "        <td id=\"T_b14d7944_30dc_11e9_bb9e_0242ac1c0002row1_col6\" class=\"data row1 col6\" >0</td> \n",
              "        <td id=\"T_b14d7944_30dc_11e9_bb9e_0242ac1c0002row1_col7\" class=\"data row1 col7\" >0</td> \n",
              "        <td id=\"T_b14d7944_30dc_11e9_bb9e_0242ac1c0002row1_col8\" class=\"data row1 col8\" >6</td> \n",
              "        <td id=\"T_b14d7944_30dc_11e9_bb9e_0242ac1c0002row1_col9\" class=\"data row1 col9\" >21</td> \n",
              "        <td id=\"T_b14d7944_30dc_11e9_bb9e_0242ac1c0002row1_col10\" class=\"data row1 col10\" >1000</td> \n",
              "    </tr>    <tr> \n",
              "        <th id=\"T_b14d7944_30dc_11e9_bb9e_0242ac1c0002level0_row2\" class=\"row_heading level0 row2\" >bird</th> \n",
              "        <td id=\"T_b14d7944_30dc_11e9_bb9e_0242ac1c0002row2_col0\" class=\"data row2 col0\" >17</td> \n",
              "        <td id=\"T_b14d7944_30dc_11e9_bb9e_0242ac1c0002row2_col1\" class=\"data row2 col1\" >2</td> \n",
              "        <td id=\"T_b14d7944_30dc_11e9_bb9e_0242ac1c0002row2_col2\" class=\"data row2 col2\" >891</td> \n",
              "        <td id=\"T_b14d7944_30dc_11e9_bb9e_0242ac1c0002row2_col3\" class=\"data row2 col3\" >9</td> \n",
              "        <td id=\"T_b14d7944_30dc_11e9_bb9e_0242ac1c0002row2_col4\" class=\"data row2 col4\" >20</td> \n",
              "        <td id=\"T_b14d7944_30dc_11e9_bb9e_0242ac1c0002row2_col5\" class=\"data row2 col5\" >15</td> \n",
              "        <td id=\"T_b14d7944_30dc_11e9_bb9e_0242ac1c0002row2_col6\" class=\"data row2 col6\" >33</td> \n",
              "        <td id=\"T_b14d7944_30dc_11e9_bb9e_0242ac1c0002row2_col7\" class=\"data row2 col7\" >8</td> \n",
              "        <td id=\"T_b14d7944_30dc_11e9_bb9e_0242ac1c0002row2_col8\" class=\"data row2 col8\" >2</td> \n",
              "        <td id=\"T_b14d7944_30dc_11e9_bb9e_0242ac1c0002row2_col9\" class=\"data row2 col9\" >3</td> \n",
              "        <td id=\"T_b14d7944_30dc_11e9_bb9e_0242ac1c0002row2_col10\" class=\"data row2 col10\" >1000</td> \n",
              "    </tr>    <tr> \n",
              "        <th id=\"T_b14d7944_30dc_11e9_bb9e_0242ac1c0002level0_row3\" class=\"row_heading level0 row3\" >cat</th> \n",
              "        <td id=\"T_b14d7944_30dc_11e9_bb9e_0242ac1c0002row3_col0\" class=\"data row3 col0\" >8</td> \n",
              "        <td id=\"T_b14d7944_30dc_11e9_bb9e_0242ac1c0002row3_col1\" class=\"data row3 col1\" >4</td> \n",
              "        <td id=\"T_b14d7944_30dc_11e9_bb9e_0242ac1c0002row3_col2\" class=\"data row3 col2\" >23</td> \n",
              "        <td id=\"T_b14d7944_30dc_11e9_bb9e_0242ac1c0002row3_col3\" class=\"data row3 col3\" >809</td> \n",
              "        <td id=\"T_b14d7944_30dc_11e9_bb9e_0242ac1c0002row3_col4\" class=\"data row3 col4\" >24</td> \n",
              "        <td id=\"T_b14d7944_30dc_11e9_bb9e_0242ac1c0002row3_col5\" class=\"data row3 col5\" >52</td> \n",
              "        <td id=\"T_b14d7944_30dc_11e9_bb9e_0242ac1c0002row3_col6\" class=\"data row3 col6\" >49</td> \n",
              "        <td id=\"T_b14d7944_30dc_11e9_bb9e_0242ac1c0002row3_col7\" class=\"data row3 col7\" >10</td> \n",
              "        <td id=\"T_b14d7944_30dc_11e9_bb9e_0242ac1c0002row3_col8\" class=\"data row3 col8\" >5</td> \n",
              "        <td id=\"T_b14d7944_30dc_11e9_bb9e_0242ac1c0002row3_col9\" class=\"data row3 col9\" >16</td> \n",
              "        <td id=\"T_b14d7944_30dc_11e9_bb9e_0242ac1c0002row3_col10\" class=\"data row3 col10\" >1000</td> \n",
              "    </tr>    <tr> \n",
              "        <th id=\"T_b14d7944_30dc_11e9_bb9e_0242ac1c0002level0_row4\" class=\"row_heading level0 row4\" >deer</th> \n",
              "        <td id=\"T_b14d7944_30dc_11e9_bb9e_0242ac1c0002row4_col0\" class=\"data row4 col0\" >2</td> \n",
              "        <td id=\"T_b14d7944_30dc_11e9_bb9e_0242ac1c0002row4_col1\" class=\"data row4 col1\" >0</td> \n",
              "        <td id=\"T_b14d7944_30dc_11e9_bb9e_0242ac1c0002row4_col2\" class=\"data row4 col2\" >13</td> \n",
              "        <td id=\"T_b14d7944_30dc_11e9_bb9e_0242ac1c0002row4_col3\" class=\"data row4 col3\" >10</td> \n",
              "        <td id=\"T_b14d7944_30dc_11e9_bb9e_0242ac1c0002row4_col4\" class=\"data row4 col4\" >933</td> \n",
              "        <td id=\"T_b14d7944_30dc_11e9_bb9e_0242ac1c0002row4_col5\" class=\"data row4 col5\" >8</td> \n",
              "        <td id=\"T_b14d7944_30dc_11e9_bb9e_0242ac1c0002row4_col6\" class=\"data row4 col6\" >26</td> \n",
              "        <td id=\"T_b14d7944_30dc_11e9_bb9e_0242ac1c0002row4_col7\" class=\"data row4 col7\" >7</td> \n",
              "        <td id=\"T_b14d7944_30dc_11e9_bb9e_0242ac1c0002row4_col8\" class=\"data row4 col8\" >1</td> \n",
              "        <td id=\"T_b14d7944_30dc_11e9_bb9e_0242ac1c0002row4_col9\" class=\"data row4 col9\" >0</td> \n",
              "        <td id=\"T_b14d7944_30dc_11e9_bb9e_0242ac1c0002row4_col10\" class=\"data row4 col10\" >1000</td> \n",
              "    </tr>    <tr> \n",
              "        <th id=\"T_b14d7944_30dc_11e9_bb9e_0242ac1c0002level0_row5\" class=\"row_heading level0 row5\" >dog</th> \n",
              "        <td id=\"T_b14d7944_30dc_11e9_bb9e_0242ac1c0002row5_col0\" class=\"data row5 col0\" >4</td> \n",
              "        <td id=\"T_b14d7944_30dc_11e9_bb9e_0242ac1c0002row5_col1\" class=\"data row5 col1\" >3</td> \n",
              "        <td id=\"T_b14d7944_30dc_11e9_bb9e_0242ac1c0002row5_col2\" class=\"data row5 col2\" >20</td> \n",
              "        <td id=\"T_b14d7944_30dc_11e9_bb9e_0242ac1c0002row5_col3\" class=\"data row5 col3\" >74</td> \n",
              "        <td id=\"T_b14d7944_30dc_11e9_bb9e_0242ac1c0002row5_col4\" class=\"data row5 col4\" >21</td> \n",
              "        <td id=\"T_b14d7944_30dc_11e9_bb9e_0242ac1c0002row5_col5\" class=\"data row5 col5\" >844</td> \n",
              "        <td id=\"T_b14d7944_30dc_11e9_bb9e_0242ac1c0002row5_col6\" class=\"data row5 col6\" >13</td> \n",
              "        <td id=\"T_b14d7944_30dc_11e9_bb9e_0242ac1c0002row5_col7\" class=\"data row5 col7\" >13</td> \n",
              "        <td id=\"T_b14d7944_30dc_11e9_bb9e_0242ac1c0002row5_col8\" class=\"data row5 col8\" >1</td> \n",
              "        <td id=\"T_b14d7944_30dc_11e9_bb9e_0242ac1c0002row5_col9\" class=\"data row5 col9\" >7</td> \n",
              "        <td id=\"T_b14d7944_30dc_11e9_bb9e_0242ac1c0002row5_col10\" class=\"data row5 col10\" >1000</td> \n",
              "    </tr>    <tr> \n",
              "        <th id=\"T_b14d7944_30dc_11e9_bb9e_0242ac1c0002level0_row6\" class=\"row_heading level0 row6\" >frog</th> \n",
              "        <td id=\"T_b14d7944_30dc_11e9_bb9e_0242ac1c0002row6_col0\" class=\"data row6 col0\" >2</td> \n",
              "        <td id=\"T_b14d7944_30dc_11e9_bb9e_0242ac1c0002row6_col1\" class=\"data row6 col1\" >3</td> \n",
              "        <td id=\"T_b14d7944_30dc_11e9_bb9e_0242ac1c0002row6_col2\" class=\"data row6 col2\" >9</td> \n",
              "        <td id=\"T_b14d7944_30dc_11e9_bb9e_0242ac1c0002row6_col3\" class=\"data row6 col3\" >6</td> \n",
              "        <td id=\"T_b14d7944_30dc_11e9_bb9e_0242ac1c0002row6_col4\" class=\"data row6 col4\" >2</td> \n",
              "        <td id=\"T_b14d7944_30dc_11e9_bb9e_0242ac1c0002row6_col5\" class=\"data row6 col5\" >1</td> \n",
              "        <td id=\"T_b14d7944_30dc_11e9_bb9e_0242ac1c0002row6_col6\" class=\"data row6 col6\" >974</td> \n",
              "        <td id=\"T_b14d7944_30dc_11e9_bb9e_0242ac1c0002row6_col7\" class=\"data row6 col7\" >1</td> \n",
              "        <td id=\"T_b14d7944_30dc_11e9_bb9e_0242ac1c0002row6_col8\" class=\"data row6 col8\" >1</td> \n",
              "        <td id=\"T_b14d7944_30dc_11e9_bb9e_0242ac1c0002row6_col9\" class=\"data row6 col9\" >1</td> \n",
              "        <td id=\"T_b14d7944_30dc_11e9_bb9e_0242ac1c0002row6_col10\" class=\"data row6 col10\" >1000</td> \n",
              "    </tr>    <tr> \n",
              "        <th id=\"T_b14d7944_30dc_11e9_bb9e_0242ac1c0002level0_row7\" class=\"row_heading level0 row7\" >horse</th> \n",
              "        <td id=\"T_b14d7944_30dc_11e9_bb9e_0242ac1c0002row7_col0\" class=\"data row7 col0\" >4</td> \n",
              "        <td id=\"T_b14d7944_30dc_11e9_bb9e_0242ac1c0002row7_col1\" class=\"data row7 col1\" >1</td> \n",
              "        <td id=\"T_b14d7944_30dc_11e9_bb9e_0242ac1c0002row7_col2\" class=\"data row7 col2\" >7</td> \n",
              "        <td id=\"T_b14d7944_30dc_11e9_bb9e_0242ac1c0002row7_col3\" class=\"data row7 col3\" >8</td> \n",
              "        <td id=\"T_b14d7944_30dc_11e9_bb9e_0242ac1c0002row7_col4\" class=\"data row7 col4\" >16</td> \n",
              "        <td id=\"T_b14d7944_30dc_11e9_bb9e_0242ac1c0002row7_col5\" class=\"data row7 col5\" >5</td> \n",
              "        <td id=\"T_b14d7944_30dc_11e9_bb9e_0242ac1c0002row7_col6\" class=\"data row7 col6\" >4</td> \n",
              "        <td id=\"T_b14d7944_30dc_11e9_bb9e_0242ac1c0002row7_col7\" class=\"data row7 col7\" >950</td> \n",
              "        <td id=\"T_b14d7944_30dc_11e9_bb9e_0242ac1c0002row7_col8\" class=\"data row7 col8\" >1</td> \n",
              "        <td id=\"T_b14d7944_30dc_11e9_bb9e_0242ac1c0002row7_col9\" class=\"data row7 col9\" >4</td> \n",
              "        <td id=\"T_b14d7944_30dc_11e9_bb9e_0242ac1c0002row7_col10\" class=\"data row7 col10\" >1000</td> \n",
              "    </tr>    <tr> \n",
              "        <th id=\"T_b14d7944_30dc_11e9_bb9e_0242ac1c0002level0_row8\" class=\"row_heading level0 row8\" >ship</th> \n",
              "        <td id=\"T_b14d7944_30dc_11e9_bb9e_0242ac1c0002row8_col0\" class=\"data row8 col0\" >13</td> \n",
              "        <td id=\"T_b14d7944_30dc_11e9_bb9e_0242ac1c0002row8_col1\" class=\"data row8 col1\" >6</td> \n",
              "        <td id=\"T_b14d7944_30dc_11e9_bb9e_0242ac1c0002row8_col2\" class=\"data row8 col2\" >2</td> \n",
              "        <td id=\"T_b14d7944_30dc_11e9_bb9e_0242ac1c0002row8_col3\" class=\"data row8 col3\" >1</td> \n",
              "        <td id=\"T_b14d7944_30dc_11e9_bb9e_0242ac1c0002row8_col4\" class=\"data row8 col4\" >0</td> \n",
              "        <td id=\"T_b14d7944_30dc_11e9_bb9e_0242ac1c0002row8_col5\" class=\"data row8 col5\" >0</td> \n",
              "        <td id=\"T_b14d7944_30dc_11e9_bb9e_0242ac1c0002row8_col6\" class=\"data row8 col6\" >1</td> \n",
              "        <td id=\"T_b14d7944_30dc_11e9_bb9e_0242ac1c0002row8_col7\" class=\"data row8 col7\" >1</td> \n",
              "        <td id=\"T_b14d7944_30dc_11e9_bb9e_0242ac1c0002row8_col8\" class=\"data row8 col8\" >964</td> \n",
              "        <td id=\"T_b14d7944_30dc_11e9_bb9e_0242ac1c0002row8_col9\" class=\"data row8 col9\" >12</td> \n",
              "        <td id=\"T_b14d7944_30dc_11e9_bb9e_0242ac1c0002row8_col10\" class=\"data row8 col10\" >1000</td> \n",
              "    </tr>    <tr> \n",
              "        <th id=\"T_b14d7944_30dc_11e9_bb9e_0242ac1c0002level0_row9\" class=\"row_heading level0 row9\" >truck</th> \n",
              "        <td id=\"T_b14d7944_30dc_11e9_bb9e_0242ac1c0002row9_col0\" class=\"data row9 col0\" >5</td> \n",
              "        <td id=\"T_b14d7944_30dc_11e9_bb9e_0242ac1c0002row9_col1\" class=\"data row9 col1\" >29</td> \n",
              "        <td id=\"T_b14d7944_30dc_11e9_bb9e_0242ac1c0002row9_col2\" class=\"data row9 col2\" >0</td> \n",
              "        <td id=\"T_b14d7944_30dc_11e9_bb9e_0242ac1c0002row9_col3\" class=\"data row9 col3\" >1</td> \n",
              "        <td id=\"T_b14d7944_30dc_11e9_bb9e_0242ac1c0002row9_col4\" class=\"data row9 col4\" >2</td> \n",
              "        <td id=\"T_b14d7944_30dc_11e9_bb9e_0242ac1c0002row9_col5\" class=\"data row9 col5\" >0</td> \n",
              "        <td id=\"T_b14d7944_30dc_11e9_bb9e_0242ac1c0002row9_col6\" class=\"data row9 col6\" >1</td> \n",
              "        <td id=\"T_b14d7944_30dc_11e9_bb9e_0242ac1c0002row9_col7\" class=\"data row9 col7\" >0</td> \n",
              "        <td id=\"T_b14d7944_30dc_11e9_bb9e_0242ac1c0002row9_col8\" class=\"data row9 col8\" >5</td> \n",
              "        <td id=\"T_b14d7944_30dc_11e9_bb9e_0242ac1c0002row9_col9\" class=\"data row9 col9\" >957</td> \n",
              "        <td id=\"T_b14d7944_30dc_11e9_bb9e_0242ac1c0002row9_col10\" class=\"data row9 col10\" >1000</td> \n",
              "    </tr></tbody> \n",
              "</table> "
            ],
            "text/plain": [
              "<pandas.io.formats.style.Styler at 0x7fb94bead710>"
            ]
          },
          "metadata": {
            "tags": []
          },
          "execution_count": 23
        }
      ]
    },
    {
      "metadata": {
        "colab_type": "code",
        "id": "vYP5OHFzk86i",
        "outputId": "c1ddda40-043d-4b13-b1d3-f704c9f62a03",
        "colab": {
          "base_uri": "https://localhost:8080/",
          "height": 77
        }
      },
      "cell_type": "code",
      "source": [
        "colSums = tbl.sum(0)\n",
        "colSums.to_frame(\"TOTAL\").transpose()"
      ],
      "execution_count": 0,
      "outputs": [
        {
          "output_type": "execute_result",
          "data": {
            "text/html": [
              "<div>\n",
              "<style scoped>\n",
              "    .dataframe tbody tr th:only-of-type {\n",
              "        vertical-align: middle;\n",
              "    }\n",
              "\n",
              "    .dataframe tbody tr th {\n",
              "        vertical-align: top;\n",
              "    }\n",
              "\n",
              "    .dataframe thead th {\n",
              "        text-align: right;\n",
              "    }\n",
              "</style>\n",
              "<table border=\"1\" class=\"dataframe\">\n",
              "  <thead>\n",
              "    <tr style=\"text-align: right;\">\n",
              "      <th></th>\n",
              "      <th>pred_airplane</th>\n",
              "      <th>pred_automobile</th>\n",
              "      <th>pred_bird</th>\n",
              "      <th>pred_cat</th>\n",
              "      <th>pred_deer</th>\n",
              "      <th>pred_dog</th>\n",
              "      <th>pred_frog</th>\n",
              "      <th>pred_horse</th>\n",
              "      <th>pred_ship</th>\n",
              "      <th>pred_truck</th>\n",
              "      <th>total</th>\n",
              "    </tr>\n",
              "  </thead>\n",
              "  <tbody>\n",
              "    <tr>\n",
              "      <th>TOTAL</th>\n",
              "      <td>976</td>\n",
              "      <td>1028</td>\n",
              "      <td>972</td>\n",
              "      <td>924</td>\n",
              "      <td>1021</td>\n",
              "      <td>925</td>\n",
              "      <td>1106</td>\n",
              "      <td>994</td>\n",
              "      <td>1012</td>\n",
              "      <td>1042</td>\n",
              "      <td>10000</td>\n",
              "    </tr>\n",
              "  </tbody>\n",
              "</table>\n",
              "</div>"
            ],
            "text/plain": [
              "       pred_airplane  pred_automobile  pred_bird  pred_cat  pred_deer  \\\n",
              "TOTAL            976             1028        972       924       1021   \n",
              "\n",
              "       pred_dog  pred_frog  pred_horse  pred_ship  pred_truck  total  \n",
              "TOTAL       925       1106         994       1012        1042  10000  "
            ]
          },
          "metadata": {
            "tags": []
          },
          "execution_count": 24
        }
      ]
    },
    {
      "metadata": {
        "colab_type": "code",
        "id": "UlDMASkTnDCQ",
        "outputId": "e71ab704-6a78-4756-9316-ddfe94ea2de1",
        "colab": {
          "base_uri": "https://localhost:8080/",
          "height": 347
        }
      },
      "cell_type": "code",
      "source": [
        "ax = colSums.iloc[:-1].sort_values().plot.barh()"
      ],
      "execution_count": 0,
      "outputs": [
        {
          "output_type": "display_data",
          "data": {
            "image/png": "[encoded data removed]",
            "text/plain": [
              "<Figure size 576x396 with 1 Axes>"
            ]
          },
          "metadata": {
            "tags": []
          }
        }
      ]
    },
    {
      "metadata": {
        "colab_type": "code",
        "id": "B2u3jHS5iFpY",
        "outputId": "9d254052-ebb1-40bf-ac27-3a7743e4ee15",
        "colab": {
          "base_uri": "https://localhost:8080/",
          "height": 343
        }
      },
      "cell_type": "code",
      "source": [
        "tbl.astype('int')"
      ],
      "execution_count": 0,
      "outputs": [
        {
          "output_type": "execute_result",
          "data": {
            "text/html": [
              "<div>\n",
              "<style scoped>\n",
              "    .dataframe tbody tr th:only-of-type {\n",
              "        vertical-align: middle;\n",
              "    }\n",
              "\n",
              "    .dataframe tbody tr th {\n",
              "        vertical-align: top;\n",
              "    }\n",
              "\n",
              "    .dataframe thead th {\n",
              "        text-align: right;\n",
              "    }\n",
              "</style>\n",
              "<table border=\"1\" class=\"dataframe\">\n",
              "  <thead>\n",
              "    <tr style=\"text-align: right;\">\n",
              "      <th></th>\n",
              "      <th>pred_airplane</th>\n",
              "      <th>pred_automobile</th>\n",
              "      <th>pred_bird</th>\n",
              "      <th>pred_cat</th>\n",
              "      <th>pred_deer</th>\n",
              "      <th>pred_dog</th>\n",
              "      <th>pred_frog</th>\n",
              "      <th>pred_horse</th>\n",
              "      <th>pred_ship</th>\n",
              "      <th>pred_truck</th>\n",
              "      <th>total</th>\n",
              "    </tr>\n",
              "  </thead>\n",
              "  <tbody>\n",
              "    <tr>\n",
              "      <th>airplane</th>\n",
              "      <td>921</td>\n",
              "      <td>7</td>\n",
              "      <td>7</td>\n",
              "      <td>6</td>\n",
              "      <td>3</td>\n",
              "      <td>0</td>\n",
              "      <td>5</td>\n",
              "      <td>4</td>\n",
              "      <td>26</td>\n",
              "      <td>21</td>\n",
              "      <td>1000</td>\n",
              "    </tr>\n",
              "    <tr>\n",
              "      <th>automobile</th>\n",
              "      <td>0</td>\n",
              "      <td>973</td>\n",
              "      <td>0</td>\n",
              "      <td>0</td>\n",
              "      <td>0</td>\n",
              "      <td>0</td>\n",
              "      <td>0</td>\n",
              "      <td>0</td>\n",
              "      <td>6</td>\n",
              "      <td>21</td>\n",
              "      <td>1000</td>\n",
              "    </tr>\n",
              "    <tr>\n",
              "      <th>bird</th>\n",
              "      <td>17</td>\n",
              "      <td>2</td>\n",
              "      <td>891</td>\n",
              "      <td>9</td>\n",
              "      <td>20</td>\n",
              "      <td>15</td>\n",
              "      <td>33</td>\n",
              "      <td>8</td>\n",
              "      <td>2</td>\n",
              "      <td>3</td>\n",
              "      <td>1000</td>\n",
              "    </tr>\n",
              "    <tr>\n",
              "      <th>cat</th>\n",
              "      <td>8</td>\n",
              "      <td>4</td>\n",
              "      <td>23</td>\n",
              "      <td>809</td>\n",
              "      <td>24</td>\n",
              "      <td>52</td>\n",
              "      <td>49</td>\n",
              "      <td>10</td>\n",
              "      <td>5</td>\n",
              "      <td>16</td>\n",
              "      <td>1000</td>\n",
              "    </tr>\n",
              "    <tr>\n",
              "      <th>deer</th>\n",
              "      <td>2</td>\n",
              "      <td>0</td>\n",
              "      <td>13</td>\n",
              "      <td>10</td>\n",
              "      <td>933</td>\n",
              "      <td>8</td>\n",
              "      <td>26</td>\n",
              "      <td>7</td>\n",
              "      <td>1</td>\n",
              "      <td>0</td>\n",
              "      <td>1000</td>\n",
              "    </tr>\n",
              "    <tr>\n",
              "      <th>dog</th>\n",
              "      <td>4</td>\n",
              "      <td>3</td>\n",
              "      <td>20</td>\n",
              "      <td>74</td>\n",
              "      <td>21</td>\n",
              "      <td>844</td>\n",
              "      <td>13</td>\n",
              "      <td>13</td>\n",
              "      <td>1</td>\n",
              "      <td>7</td>\n",
              "      <td>1000</td>\n",
              "    </tr>\n",
              "    <tr>\n",
              "      <th>frog</th>\n",
              "      <td>2</td>\n",
              "      <td>3</td>\n",
              "      <td>9</td>\n",
              "      <td>6</td>\n",
              "      <td>2</td>\n",
              "      <td>1</td>\n",
              "      <td>974</td>\n",
              "      <td>1</td>\n",
              "      <td>1</td>\n",
              "      <td>1</td>\n",
              "      <td>1000</td>\n",
              "    </tr>\n",
              "    <tr>\n",
              "      <th>horse</th>\n",
              "      <td>4</td>\n",
              "      <td>1</td>\n",
              "      <td>7</td>\n",
              "      <td>8</td>\n",
              "      <td>16</td>\n",
              "      <td>5</td>\n",
              "      <td>4</td>\n",
              "      <td>950</td>\n",
              "      <td>1</td>\n",
              "      <td>4</td>\n",
              "      <td>1000</td>\n",
              "    </tr>\n",
              "    <tr>\n",
              "      <th>ship</th>\n",
              "      <td>13</td>\n",
              "      <td>6</td>\n",
              "      <td>2</td>\n",
              "      <td>1</td>\n",
              "      <td>0</td>\n",
              "      <td>0</td>\n",
              "      <td>1</td>\n",
              "      <td>1</td>\n",
              "      <td>964</td>\n",
              "      <td>12</td>\n",
              "      <td>1000</td>\n",
              "    </tr>\n",
              "    <tr>\n",
              "      <th>truck</th>\n",
              "      <td>5</td>\n",
              "      <td>29</td>\n",
              "      <td>0</td>\n",
              "      <td>1</td>\n",
              "      <td>2</td>\n",
              "      <td>0</td>\n",
              "      <td>1</td>\n",
              "      <td>0</td>\n",
              "      <td>5</td>\n",
              "      <td>957</td>\n",
              "      <td>1000</td>\n",
              "    </tr>\n",
              "  </tbody>\n",
              "</table>\n",
              "</div>"
            ],
            "text/plain": [
              "            pred_airplane  pred_automobile  pred_bird  pred_cat  pred_deer  \\\n",
              "airplane              921                7          7         6          3   \n",
              "automobile              0              973          0         0          0   \n",
              "bird                   17                2        891         9         20   \n",
              "cat                     8                4         23       809         24   \n",
              "deer                    2                0         13        10        933   \n",
              "dog                     4                3         20        74         21   \n",
              "frog                    2                3          9         6          2   \n",
              "horse                   4                1          7         8         16   \n",
              "ship                   13                6          2         1          0   \n",
              "truck                   5               29          0         1          2   \n",
              "\n",
              "            pred_dog  pred_frog  pred_horse  pred_ship  pred_truck  total  \n",
              "airplane           0          5           4         26          21   1000  \n",
              "automobile         0          0           0          6          21   1000  \n",
              "bird              15         33           8          2           3   1000  \n",
              "cat               52         49          10          5          16   1000  \n",
              "deer               8         26           7          1           0   1000  \n",
              "dog              844         13          13          1           7   1000  \n",
              "frog               1        974           1          1           1   1000  \n",
              "horse              5          4         950          1           4   1000  \n",
              "ship               0          1           1        964          12   1000  \n",
              "truck              0          1           0          5         957   1000  "
            ]
          },
          "metadata": {
            "tags": []
          },
          "execution_count": 26
        }
      ]
    },
    {
      "metadata": {
        "colab_type": "code",
        "id": "CkYEzuWg5gAB",
        "outputId": "d6578e22-b6e0-46b7-d85d-1b3a7b6cfd2e",
        "colab": {
          "base_uri": "https://localhost:8080/",
          "height": 3640
        }
      },
      "cell_type": "code",
      "source": [
        "ylab = np.argmax(y_test,axis=1)\n",
        "print(prob_max.loc[prob_max < .99].describe())\n",
        "for i in np.where(prob_max < 0.35)[0][:10]:\n",
        "    x = x_test[i]\n",
        "    print([(c,prob_mat[i,j]) for j,c in enumerate(class_names) if prob_mat[i,j] > 0.1],\n",
        "          class_names[ylab[i]],prob_mat[i,ylab[i]])\n",
        "    plt.imshow((255.*(x + x_train_mean)).astype('uint8'))\n",
        "    plt.show()"
      ],
      "execution_count": 0,
      "outputs": [
        {
          "output_type": "stream",
          "text": [
            "count    2466.000000\n",
            "mean        0.812720\n",
            "std         0.173069\n",
            "min         0.284493\n",
            "25%         0.691749\n",
            "50%         0.878671\n",
            "75%         0.961871\n",
            "max         0.989973\n",
            "dtype: float64\n",
            "[('bird', 0.19932877), ('deer', 0.26278907), ('dog', 0.30012804), ('frog', 0.12841798)] dog 0.30012804\n"
          ],
          "name": "stdout"
        },
        {
          "output_type": "display_data",
          "data": {
            "image/png": "[encoded data removed]",
            "text/plain": [
              "<Figure size 576x396 with 1 Axes>"
            ]
          },
          "metadata": {
            "tags": []
          }
        },
        {
          "output_type": "stream",
          "text": [
            "[('bird', 0.23219839), ('dog', 0.3271725), ('frog', 0.34914064)] bird 0.23219839\n"
          ],
          "name": "stdout"
        },
        {
          "output_type": "display_data",
          "data": {
            "image/png": "[encoded data removed]",
            "text/plain": [
              "<Figure size 576x396 with 1 Axes>"
            ]
          },
          "metadata": {
            "tags": []
          }
        },
        {
          "output_type": "stream",
          "text": [
            "[('airplane', 0.19488877), ('bird', 0.29307485), ('truck', 0.3090243)] cat 0.0365147\n"
          ],
          "name": "stdout"
        },
        {
          "output_type": "display_data",
          "data": {
            "image/png": "[encoded data removed]",
            "text/plain": [
              "<Figure size 576x396 with 1 Axes>"
            ]
          },
          "metadata": {
            "tags": []
          }
        },
        {
          "output_type": "stream",
          "text": [
            "[('cat', 0.16302533), ('deer', 0.20653723), ('dog', 0.13932838), ('frog', 0.31925446)] dog 0.13932838\n"
          ],
          "name": "stdout"
        },
        {
          "output_type": "display_data",
          "data": {
            "image/png": "[encoded data removed]",
            "text/plain": [
              "<Figure size 576x396 with 1 Axes>"
            ]
          },
          "metadata": {
            "tags": []
          }
        },
        {
          "output_type": "stream",
          "text": [
            "[('cat', 0.13167812), ('deer', 0.17066966), ('dog', 0.33137247), ('frog', 0.21928339)] dog 0.33137247\n"
          ],
          "name": "stdout"
        },
        {
          "output_type": "display_data",
          "data": {
            "image/png": "[encoded data removed]",
            "text/plain": [
              "<Figure size 576x396 with 1 Axes>"
            ]
          },
          "metadata": {
            "tags": []
          }
        },
        {
          "output_type": "stream",
          "text": [
            "[('cat', 0.27971917), ('dog', 0.30816463), ('frog', 0.24470499)] cat 0.27971917\n"
          ],
          "name": "stdout"
        },
        {
          "output_type": "display_data",
          "data": {
            "image/png": "[encoded data removed]",
            "text/plain": [
              "<Figure size 576x396 with 1 Axes>"
            ]
          },
          "metadata": {
            "tags": []
          }
        },
        {
          "output_type": "stream",
          "text": [
            "[('airplane', 0.30349636), ('automobile', 0.14282903), ('ship', 0.15597822), ('truck', 0.33111516)] automobile 0.14282903\n"
          ],
          "name": "stdout"
        },
        {
          "output_type": "display_data",
          "data": {
            "image/png": "[encoded data removed]",
            "text/plain": [
              "<Figure size 576x396 with 1 Axes>"
            ]
          },
          "metadata": {
            "tags": []
          }
        },
        {
          "output_type": "stream",
          "text": [
            "[('automobile', 0.17783844), ('dog', 0.30651543), ('horse', 0.16084999), ('truck', 0.33596703)] dog 0.30651543\n"
          ],
          "name": "stdout"
        },
        {
          "output_type": "display_data",
          "data": {
            "image/png": "[encoded data removed]",
            "text/plain": [
              "<Figure size 576x396 with 1 Axes>"
            ]
          },
          "metadata": {
            "tags": []
          }
        },
        {
          "output_type": "stream",
          "text": [
            "[('bird', 0.31729877), ('cat', 0.31426677), ('deer', 0.17736019)] bird 0.31729877\n"
          ],
          "name": "stdout"
        },
        {
          "output_type": "display_data",
          "data": {
            "image/png": "[encoded data removed]",
            "text/plain": [
              "<Figure size 576x396 with 1 Axes>"
            ]
          },
          "metadata": {
            "tags": []
          }
        },
        {
          "output_type": "stream",
          "text": [
            "[('automobile', 0.11225117), ('cat', 0.17072797), ('dog', 0.34347743), ('frog', 0.34751433)] dog 0.34347743\n"
          ],
          "name": "stdout"
        },
        {
          "output_type": "display_data",
          "data": {
            "image/png": "[encoded data removed]",
            "text/plain": [
              "<Figure size 576x396 with 1 Axes>"
            ]
          },
          "metadata": {
            "tags": []
          }
        }
      ]
    }
  ]
}